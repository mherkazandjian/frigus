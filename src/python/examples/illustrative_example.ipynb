{
 "cells": [
  {
   "cell_type": "markdown",
   "metadata": {},
   "source": [
    "# Cooling function of HD colliding with H\n",
    "\n",
    "In this example the calculation of the cooling function for HD colliding with H is performed using FRIGUS and it is compared to the results obtained by Lipovka et al. 2005."
   ]
  },
  {
   "cell_type": "code",
   "execution_count": null,
   "metadata": {
    "collapsed": true
   },
   "outputs": [],
   "source": [
    "# import dependencies\n",
    "import numpy as np\n",
    "import matplotlib.pyplot as plt\n",
    "from astropy import units as u"
   ]
  },
  {
   "cell_type": "code",
   "execution_count": null,
   "metadata": {
    "scrolled": false
   },
   "outputs": [],
   "source": [
    "# import from FRIGUS source the class and functions to load the data, compute the cooling function and calculate the fit\n",
    "from frigus.readers.dataset import DataLoader\n",
    "from frigus.population import cooling_rate_at_steady_state\n",
    "from frigus.cooling_function.fits import fit_lipovka"
   ]
  },
  {
   "cell_type": "code",
   "execution_count": null,
   "metadata": {},
   "outputs": [],
   "source": [
    "# load the energy levels, the collisional reaction rates with H and the radiative coefficients for HD\n",
    "species_data = DataLoader().load('HD_lipovka')"
   ]
  },
  {
   "cell_type": "code",
   "execution_count": null,
   "metadata": {
    "collapsed": true
   },
   "outputs": [],
   "source": [
    "# plot settings for the comparison between cooling functions calculated by FRIGUS and using fit by Lipovka et al. 2005\n",
    "plt.ion()\n",
    "fig, axs = plt.subplots(figsize=(8, 8))\n",
    "plot_markers = [(2 + i//2, 1 + i % 2, 0) for i in range(16)]"
   ]
  },
  {
   "cell_type": "code",
   "execution_count": null,
   "metadata": {
    "collapsed": true
   },
   "outputs": [],
   "source": [
    "# define the gas densities, the radiation and the kinetic temperatures ranges to compute the level population\n",
    "# and cooling rate\n",
    "\n",
    "# density of the colliding species, in m^3\n",
    "nc_h_rng = [\n",
    "               1.e6, 1.e7, 1.e8, 1.e9, 1.e10, 1.e11, 1.e12, 1.e13, 1.e14\n",
    "           ] * u.meter ** -3\n",
    "\n",
    "# radiation temperature, in K\n",
    "t_rad = 0.0 * u.Kelvin\n",
    "\n",
    "# kinetic temperature range, in K\n",
    "t_rng = np.logspace(2, 3.2, 10) * u.Kelvin"
   ]
  },
  {
   "cell_type": "code",
   "execution_count": null,
   "metadata": {
    "collapsed": true
   },
   "outputs": [],
   "source": [
    "# compute the cooling function\n",
    "\n",
    "for nc_index, nc_h in enumerate(nc_h_rng):\n",
    "\n",
    "    lambda_vs_t_kin = []\n",
    "    pop_dens_vs_t_kin = []\n",
    "\n",
    "    for t_kin in t_rng:\n",
    "        print(t_kin, nc_h)\n",
    "\n",
    "        lambda_vs_t_kin += [\n",
    "            cooling_rate_at_steady_state(\n",
    "                species_data,\n",
    "                t_kin,\n",
    "                t_rad,\n",
    "                nc_h)\n",
    "        ]\n",
    "\n",
    "    lambda_vs_t_kin = u.Quantity(lambda_vs_t_kin)\n",
    "\n",
    "    lambda_vs_t_kin_lipovka = fit_lipovka(t_rng, nc_h)\n",
    "\n",
    "    axs.loglog(\n",
    "        t_rng.value, lambda_vs_t_kin.cgs.value,\n",
    "        '-x', color='black', marker=plot_markers[nc_index], label=nc_h\n",
    "    )\n",
    "\n",
    "    axs.loglog(\n",
    "        t_rng.value, lambda_vs_t_kin_lipovka.cgs.value,\n",
    "        'r--', color='black', label=''\n",
    "    )\n",
    "\n",
    "    axs.set_xlabel('T$_\\mathrm{kin}$ [K]')\n",
    "    axs.set_ylabel('cooling function [erg s$^{-1}$]')\n",
    "\n",
    "plt.legend()\n",
    "plt.show()\n",
    "\n",
    "print('done')\n"
   ]
  }
 ],
 "metadata": {
  "kernelspec": {
   "display_name": "Python 3",
   "language": "python",
   "name": "python3"
  },
  "language_info": {
   "codemirror_mode": {
    "name": "ipython",
    "version": 3
   },
   "file_extension": ".py",
   "mimetype": "text/x-python",
   "name": "python",
   "nbconvert_exporter": "python",
   "pygments_lexer": "ipython3",
   "version": "3.6.1"
  }
 },
 "nbformat": 4,
 "nbformat_minor": 2
}
