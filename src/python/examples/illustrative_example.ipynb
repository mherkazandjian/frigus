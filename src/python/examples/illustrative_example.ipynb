{
 "cells": [
  {
   "cell_type": "markdown",
   "metadata": {},
   "source": [
    "# Cooling function of HD colliding with H\n",
    "\n",
    "In this example the calculation of the cooling function for HD colliding with H is performed using FRIGUS and it is compared to the results obtained by Lipovka et al. 2005. A 3D plot which show the dependency on kinetic temperature and density is also produced."
   ]
  },
  {
   "cell_type": "code",
   "execution_count": null,
   "metadata": {
    "collapsed": true
   },
   "outputs": [],
   "source": [
    "# import dependencies\n",
    "import numpy as np\n",
    "from astropy import units as u"
   ]
  },
  {
   "cell_type": "code",
   "execution_count": null,
   "metadata": {
    "collapsed": true,
    "scrolled": false
   },
   "outputs": [],
   "source": [
    "# import from FRIGUS source the classes to load the data and to compute and plot the cooling function\n",
    "from frigus.readers.dataset import DataLoader\n",
    "from frigus.cooling_function.grid import CoolingFunctionGrid"
   ]
  },
  {
   "cell_type": "code",
   "execution_count": null,
   "metadata": {
    "collapsed": true
   },
   "outputs": [],
   "source": [
    "grid = CoolingFunctionGrid()"
   ]
  },
  {
   "cell_type": "code",
   "execution_count": null,
   "metadata": {
    "collapsed": true
   },
   "outputs": [],
   "source": [
    "grid.set_species(DataLoader().load('HD_lipovka'))"
   ]
  },
  {
   "cell_type": "code",
   "execution_count": null,
   "metadata": {
    "collapsed": true
   },
   "outputs": [],
   "source": [
    "# define the gas densities, the radiation and the kinetic temperatures ranges to compute the level population\n",
    "# and cooling rate\n",
    "\n",
    "# density of the colliding species, in m^3\n",
    "grid.set_density(np.logspace(6, 14, 10) * u.m ** -3)\n",
    "# kinetic temperature range, in K\n",
    "grid.set_t_kin(np.logspace(2, 3.2, 10) * u.Kelvin)\n",
    "# radiation temperature, in K\n",
    "grid.set_t_rad(0.0 * u.Kelvin)"
   ]
  },
  {
   "cell_type": "code",
   "execution_count": null,
   "metadata": {
    "collapsed": true
   },
   "outputs": [],
   "source": [
    "# compute the cooling function and plot it as 3D \n",
    "grid.plot(x='n', y='t_kin')\n",
    "\n",
    "print('done')\n"
   ]
  }
 ],
 "metadata": {
  "kernelspec": {
   "display_name": "Python 3",
   "language": "python",
   "name": "python3"
  },
  "language_info": {
   "codemirror_mode": {
    "name": "ipython",
    "version": 3
   },
   "file_extension": ".py",
   "mimetype": "text/x-python",
   "name": "python",
   "nbconvert_exporter": "python",
   "pygments_lexer": "ipython3",
   "version": "3.6.1"
  }
 },
 "nbformat": 4,
 "nbformat_minor": 2
}
