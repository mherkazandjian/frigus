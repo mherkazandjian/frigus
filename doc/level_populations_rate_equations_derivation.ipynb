{
 "cells": [
  {
   "cell_type": "markdown",
   "metadata": {},
   "source": []
  },
  {
   "cell_type": "markdown",
   "metadata": {
    "collapsed": true
   },
   "source": [
    "For a 4-levels system the rate equations are here derived. All the possible transitions, collisional and radiative, inserted in this model are:\n",
    "\n",
    "- spontaneous emission (sp_em); it corresponds to the spontaneous radiative decay from an upper level down to a lower one. It is described by the Einstein coefficients $$\\mathrm{A}_{ij}$$\n",
    "- stimulated emission (st_em); it corresponds to the stimulated radiative decay from an upper level down to a lower one. It is described by the Einstein coefficients $$\\mathrm{B}_{ij},$$ with $$E_i>E_j;$$ the rate for these processes depend on the radiation field present in the environment the model refers to;\n",
    "- stimulated excitation (st_ex); it corresponds to the absorption from a lower level upwards. It is described by the Einstein coefficients $$\\mathrm{B}_{ji},$$ with $$E_i>E_j.$$ The radiation field provides this pumping mechanism;\n",
    "- collisional de-excitation (coll_dex); it corresponds to the de-excitation due to collisions between the molecule and the collisional partner from an upper down to a lower level;\n",
    "- collisional excitation (coll_ex); it corresponds to the excitation due to collisions between the molecule and the collisional partner from a lower level upwards;"
   ]
  },
  {
   "cell_type": "markdown",
   "metadata": {},
   "source": [
    "$$\n",
    "\\begin{split}\n",
    "\\frac{dn_0}{dt} & = (A_{30}n_3+A_{20}n_2+A_{10}n_1)\n",
    "~~~~~~~~~~~~~~~~~~~~\\text{(sp_em)} \\\\\n",
    "                & + (B_{30}J_{\\nu}n_3+B_{20}J_{\\nu}n_2+B_{10}J_{\\nu}n_1) ~~~~~~~~~~\\text{(st_em)} \\\\\n",
    "                & + (K_{30}n_cn_3+K_{20}n_cn_2+K_{10}n_cn_1)\n",
    "~~~~~~~~~\\text{(coll_dex)} \\\\\n",
    "                & -(B_{01}J_{\\nu}n_0+B_{02}J_{\\nu}n_0+B_{03}J_{\\nu}n_0)  ~~~~~~~~~~\\text{(st_ex)} \\\\\n",
    "                & -(K_{01}n_cn_0+K_{02}n_cn_0+K_{03}n_cn_0) \n",
    "~~~~~~~~~\\text{(coll_ex)} \\\\                                \n",
    "\\frac{dn_1}{dt} & = (A_{21}n_2+A_{31}n_3)\n",
    "~~~~~~~~~~~~~~~~~~~~~~~~~~~~~~~~~\\text{(sp_em)} \\\\\n",
    "                & + (B_{01}J_{\\nu}n_0+B_{21}J_{\\nu}n_2+B_{31}J_{\\nu}n_3) ~~~~~~~~~\\text{(st_em)} \\\\\n",
    "                & + (K_{21}n_cn_2+K_{31}n_cn_3)\n",
    "~~~~~~~~~~~~~~~~~~~~~~~~~~\\text{(coll_dex)} \\\\\n",
    "                & +K_{01}n_cn_0\n",
    "~~~~~~~~~~~~~~~~~~~~~~~~~~~~~~~~~~~~~~~~~~~~~~~\\text{(coll_ex)} \\\\\n",
    "                & -A_{10}n_cn_1\n",
    "~~~~~~~~~~~~~~~~~~~~~~~~~~~~~~~~~~~~~~~~~~~~~~~\\text{(sp_em)} \\\\  \n",
    "                & -B_{10}J_{\\nu}n_1\n",
    "~~~~~~~~~~~~~~~~~~~~~~~~~~~~~~~~~~~~~~~~~~~~~\\text{(st_em)} \\\\\n",
    "                & -B_{12}J_{\\nu}n_1-B_{13}J_{\\nu}n_1)\n",
    "~~~~~~~~~~~~~~~~~~~~~~~~~~~~~~\\text{(st_ex)} \\\\                \n",
    "                & -K_{12}n_cn_1-K_{13}n_cn_1\n",
    "~~~~~~~~~~~~~~~~~~~~~~~~~~~~~\\text{(coll_ex)} \\\\\n",
    "                & -K_{10}n_cn_1\n",
    "~~~~~~~~~~~~~~~~~~~~~~~~~~~~~~~~~~~~~~~~~~~~~~~\\text{(coll_dex)} \\\\                \n",
    "\\frac{dn_2}{dt} & = ~~~~ A_{32}n_3 ~~~~~~~~~~~~~~~~~~~~~~~~~~~~~~~~~\\text{(sp_em)} \\\\\n",
    "                & + B_{32}J_{\\nu}n_3 ~~~~~~~~~~~~~~~~~~~~~~~~~~~~~~~~~\\text{(st_em)} \\\\\n",
    "                & + B_{12}J_{\\nu}n_1 + B_{02}J_{\\nu}n_0 ~~~~~~~~~~~~~~~~~~~\\text{(st_ex)}\\\\\n",
    "                & + K_{32}n_cn_3~~~~~~~~~~~~~~~~~~~~~~~~~~\\text{(coll_dex)} \\\\\n",
    "                & + K_{12}n_cn_1 + K_{02}n_cn_0\n",
    "~~~~~~~~~~~~~~~~~~~~~~~~~~~~~~~~~~~~~~~~~~~~~~~\\text{(coll_ex)} \\\\\n",
    "                & -A_{21}n_cn_2 - A_{20}n_cn_2\n",
    "~~~~~~~~~~~~~~~~~~~~~~~~~~~~~~~~~~~~~~~~~~~~~~~\\text{(sp_em)} \\\\  \n",
    "                & -B_{23}J_{\\nu}n_2\n",
    "~~~~~~~~~~~~~~~~~~~~~~~~~~~~~~~~~~~~~~~~~~~~~~~\\text{(st_em)} \\\\\n",
    "                & -B_{21}J_{\\nu}n_2-B_{20}J_{\\nu}n_2)\n",
    "~~~~~~~~~~~~~~~~~~~~~~~~~~~~~~\\text{(st_em)} \\\\                \n",
    "                & -K_{23}n_cn_2 ~~~~~~~~~~~~~~~~~~~~~~~~~~~~~\\text{(coll_ex)} \\\\\n",
    "                & -K_{21}n_cn_2 - K_{20}n_cn_2\n",
    "~~~~~~~~~~~~~~~~~~~~~~~~~~~~~~~~~~~~~~~~~~~~~~~\\text{(coll_dex)} \\\\\n",
    "\\frac{dn_3}{dt} & = (K_{23}n_cn_3+K_{13}n_cn_1+K_{03}n_cn_0)\n",
    "~~~~~~~~~~~~~~~~~~~~\\text{(coll_ex)} \\\\\n",
    "                & + (B_{23}J_{\\nu}n_2+B_{13}J_{\\nu}n_1+B_{03}J_{\\nu}n_0) ~~~~~~~~~~\\text{(st_ex)} \\\\\n",
    "                & - A_{32}n_3 - A_{31}n_3 + A_{30}n_3)\n",
    "~~~~~~~~~\\text{(sp_em)} \\\\\n",
    "                & -B_{32}J_{\\nu}n_3-B_{31}J_{\\nu}n_3-B_{30}J_{\\nu}n_3)  ~~~~~~~~~~\\text{(st_em)} \\\\\n",
    "                & -K_{32}n_cn_3-K_{31}n_cn_3-K_{30}n_cn_3\n",
    "~~~~~~~~~\\text{(coll_dex)} \\\\                                \n",
    "\\end{split} \n",
    "$$"
   ]
  },
  {
   "cell_type": "code",
   "execution_count": null,
   "metadata": {
    "collapsed": true
   },
   "outputs": [],
   "source": []
  }
 ],
 "metadata": {
  "kernelspec": {
   "display_name": "Python 2",
   "language": "python",
   "name": "python2"
  },
  "language_info": {
   "codemirror_mode": {
    "name": "ipython",
    "version": 2
   },
   "file_extension": ".py",
   "mimetype": "text/x-python",
   "name": "python",
   "nbconvert_exporter": "python",
   "pygments_lexer": "ipython2",
   "version": "2.7.11"
  }
 },
 "nbformat": 4,
 "nbformat_minor": 0
}
