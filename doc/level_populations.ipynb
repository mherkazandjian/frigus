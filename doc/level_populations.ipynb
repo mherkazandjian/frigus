{
 "cells": [
  {
   "cell_type": "markdown",
   "metadata": {},
   "source": [
    "$$c = \\sqrt{a^2 + b^2}$$"
   ]
  },
  {
   "cell_type": "markdown",
   "metadata": {},
   "source": [
    "$$\\begin{split}\\frac{dn_i}{dt}&=\\sum_{j=i+1}^{N-1}n_j\\left[n_ck_{ji}+(1+n_{\\gamma_{ji}})A_{ji}\\right]+\\sum_{j=0}^{i-1}n_jn_ck_{ji}\\\\ &+\\sum_{j=0}^{i-1}n_j\\frac{g_i}{g_j}n_{\\gamma_{ij}}A_{ij} \\\\&-n_i\\sum_{j=0}^{i-1}\\left[ n_ck_{ij}+(1+n_{\\gamma_{ij}})A_{ij}\\right] -n_i\\sum_{j=i+1}^{N-1}n_ck_{ij} \\\\ &-n_i\\sum_{j=i+1}^{N-1}\\frac{g_j}{g_i}n_{\\gamma_{ji}}A_{ji}\\end{split}$$"
   ]
  },
  {
   "cell_type": "markdown",
   "metadata": {
    "collapsed": true
   },
   "source": [
    "$$ \\begin{equation}A = \\left\\{ \n",
    "  \\begin{aligned}\n",
    "  & =  0 ~ i>j\\\\ \n",
    "  & = 0  ~ i< j\\\\\n",
    "  \\end{aligned}\n",
    "\\right\\}\n",
    "\\end{equation}\n",
    "$$"
    "<img src=\"level_population.svg\">"
   ]
  },
  {
   "cell_type": "markdown",
   "metadata": {},
   "source": []
  },
  {
   "cell_type": "markdown",
   "metadata": {},
   "source": []
  },
  {
   "cell_type": "markdown",
   "metadata": {},
   "source": []
  },
  {
   "cell_type": "markdown",
   "metadata": {
    "collapsed": true
   },
   "source": []
  },
  {
   "cell_type": "code",
   "execution_count": 6,
   "metadata": {
    "collapsed": false
   },
   "outputs": [
    {
     "ename": "SyntaxError",
     "evalue": "invalid syntax (<ipython-input-6-54a19b68abab>, line 1)",
     "output_type": "error",
     "traceback": [
      "\u001b[1;36m  File \u001b[1;32m\"<ipython-input-6-54a19b68abab>\"\u001b[1;36m, line \u001b[1;32m1\u001b[0m\n\u001b[1;33m    $$ \\begin{equation}A = \\left\\{\u001b[0m\n\u001b[1;37m    ^\u001b[0m\n\u001b[1;31mSyntaxError\u001b[0m\u001b[1;31m:\u001b[0m invalid syntax\n"
     ]
    }
   ],
   "source": []
  },
  {
   "cell_type": "markdown",
   "metadata": {
    "collapsed": true
   },
   "source": []
  },
  {
   "cell_type": "code",
   "execution_count": null,
   "metadata": {
    "collapsed": true
   },
   "outputs": [],
   "source": []
  },
  {
   "cell_type": "code",
   "execution_count": null,
   "metadata": {
    "collapsed": true
   },
   "outputs": [],
   "source": []
  },
  {
   "cell_type": "code",
   "execution_count": null,
   "metadata": {
    "collapsed": true
   },
   "outputs": [],
   "source": []
  }
 ],
 "metadata": {
  "kernelspec": {
   "display_name": "Python 2",
   "language": "python",
   "name": "python2"
  },
  "language_info": {
   "codemirror_mode": {
    "name": "ipython",
    "version": 2
   },
   "file_extension": ".py",
   "mimetype": "text/x-python",
   "name": "python",
   "nbconvert_exporter": "python",
   "pygments_lexer": "ipython2",
   "version": "2.7.10"
  }
 },
 "nbformat": 4,
 "nbformat_minor": 0
}
