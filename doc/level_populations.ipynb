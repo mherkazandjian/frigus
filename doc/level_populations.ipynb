{
 "cells": [
  {
   "cell_type": "markdown",
   "metadata": {},
   "source": [
    "# Constructing the Linear System for Level Populations\n",
    "\n",
    "## Conventions\n",
    "\n",
    "#### Matrix notation\n",
    "The elements of a matrix are indexies using two indicies. The first index is the row index and the second index is the column index, so a 3x3 matrix $M_{ij}$ is defined as:\n",
    "$$ \n",
    "\\mathbf{M} = \n",
    "\\begin{bmatrix}\n",
    "    M_{00}       & M_{01} & M_{02} \\\\\n",
    "    M_{10}       & M_{11} & M_{12} \\\\\n",
    "    M_{20}       & M_{21} & M_{22} \\\\\n",
    "\\end{bmatrix}$$\n",
    "\n",
    "An strictly upper triangular square matrix is a matrix that has non-zero values above the diagonal. The elements below and along the diagonal are all zeros. Such a matrix is defined as $U_{ij} \\ne 0,~\\forall~i < j$. For example a strictly upper 3x3 matrix looks like:\n",
    "\n",
    "$$ \n",
    "\\mathbf{U_{3x3}} = \n",
    "\\begin{bmatrix}\n",
    "    0       & M_{01} & M_{02} \\\\\n",
    "    0       & 0      & M_{12} \\\\\n",
    "    0       & 0      & 0      \\\\\n",
    "\\end{bmatrix}$$\n",
    "\n",
    "A constant upper triangular matrix filled with ones is defined as $U_{ij} = 1,~\\forall~i < j$. For example a strictly upper 3x3 matrix looks like:\n",
    "\n",
    "$$ \n",
    "\\mathbf{1_{3x3}} = \n",
    "\\begin{bmatrix}\n",
    "    0 & 1  & 1 \\\\\n",
    "    0 & 0  & 1 \\\\\n",
    "    0 & 0  & 0 \\\\\n",
    "\\end{bmatrix}$$\n",
    "\n",
    "\n",
    "\n",
    "#### Dimensions/Units\n",
    "We will try to refrain from using units as much as possible. But whenever specific units are used (S.I, cgs) we will stress the used ones in <font color='red'>red</font>.\n",
    "\n",
    "## Constants\n",
    "\n",
    "The numerical values of the constants and physical constants will be adopted from numpy, scipy, astropy.\n",
    "\n",
    " - $\\hbar$: Plank's constant\n",
    " - $c$: speed of light\n",
    " \n",
    "### Ingredients for a system with $\\it{n}$ levels\n",
    "\n",
    " - Einstein coefficient $A_{ij}$\n",
    " - Stimulated emission coefficient $B_{ij}$\n",
    " - Collisional coefficient $K_{ij}$\n",
    " - The degenaracies of the levels $g_i$\n",
    "\n",
    "#### Einstein Coefficients \n",
    "\n",
    "$A_{ij}$ are the coefficients of spontaneous emission. The coefficients of stimulated emission $B_{ij}$ ($i > j)$ and stimulated excitation (a.k.a absorbtion) $B_{ji}$ ($i > j$) can be computed from $A_{ij}$.\n",
    "In <font color='red'>all</font> of our calculations the subscript $ij$ indicates a transition from level $i$ to level $j$. <font color='red'>add explicit examples here</font>.\n",
    "\n",
    "This implies $A_{ij} = 0 ~~~ \\forall ~~~ i \\leq j$. For example the matrix of the Einstein coeffiecients form for a system with $n = 4$ levels is:\n",
    "$$ \n",
    "\\mathbf{A} = \n",
    "\\begin{bmatrix}\n",
    "    0      & 0      & 0      &  0 \\\\\n",
    "    A_{10} & 0      & 0      &  0 \\\\\n",
    "    A_{20} & A_{21} & 0      &  0 \\\\\n",
    "    A_{30} & A_{31} & A_{32} &  0 \\\\\n",
    "\\end{bmatrix}\n",
    "$$\n",
    "\n",
    "$\\mathbf{A}$ is a lower triangular matrix with zeros on the diagonal.\n",
    "\n",
    "The dimensions of $A_{ij}$ is the inverse of time. In other words $A_{ij}$ specify the rate at which transitions\n",
    "take place from level $i$ to level $j$ per unit time.\n",
    "\n",
    "<font color='blue'>$A_{ij} = $ spontaneous transition from $i \\rightarrow j$ where $i$ is the upper level and $j$ is the lower level ($i > j$)</font>\n",
    "\n",
    "#### Stimulated emission and Absorbtion Coefficients\n",
    "\n",
    "The coefficients for stimulated emission ($B_{ul}$) and absorbtion ($B_{lu}$) can be dervied from the Einstien coefficients using detailed balance arguments at equilibrium (see derivation in the appendix). Following the derivation we obtain:\n",
    "\n",
    "$$B_{ul} = \\frac{8 \\pi \\hbar \\nu^3}{c^3} A_{ul}$$\n",
    "$$B_{lu} = \\frac{g_u}{g_l} B_{ul}$$\n",
    "\n",
    "where the subsripts $u$ and $l$ indicate upper and lower respectively. Thus the \"matrix\" $B_{ul}$ is a lower triangular matrix (like A) with zeros on the diagonal. On the other hand $B_{lu}$ is an upper triangular matrix\n",
    "with zeros on the diagonal. $g_i$ are the degeneracies for a certain level. The constants are defined at the top and $\\nu$ is the frequency of the photon associated with the transition. We see that $B_{ij}$ have a cubic dependence on the frequency of the photon.\n",
    "$$ \n",
    "\\mathbf{B} = \n",
    "\\begin{bmatrix}\n",
    "    0      & \n",
    "    B_{01} & B_{02} &  B_{03} \\\\\n",
    "    B_{10} & 0      & B_{12} &  B_{13} \\\\\n",
    "    B_{20} & B_{21} & 0      &  B_{23} \\\\\n",
    "    B_{30} & B_{31} & B_{32} &  0 \\\\\n",
    "\\end{bmatrix}\n",
    "=\n",
    "\\begin{bmatrix}\n",
    "    0      & \\frac{g_1}{g_0}B_{10} & \\frac{g_2}{g_0}B_{20} &  \\frac{g_3}{g_0}B_{30} \\\\\n",
    "    B_{10} & 0                     & \\frac{g_2}{g_1}B_{21} &  \\frac{g_3}{g_1}B_{31} \\\\\n",
    "    B_{20} & B_{21}                & 0                     &  \\frac{g_3}{g_2}B_{32} \\\\\n",
    "    B_{30} & B_{31}                & B_{32}                &  0 \\\\\n",
    "\\end{bmatrix}\n",
    "$$\n",
    "\n",
    "<font color='red'>$B_{ij}$ has dimensions of ???? (fill this)</font>.\n",
    "\n",
    "For convinience, we write $\\mathbf{B}$ as the sum of two matricies. $\\mathbf{B} = \\mathbf{B_e} + \\mathbf{B_a}$ \n",
    "\n",
    "$$ \n",
    "\\mathbf{B_e} = \n",
    "\\begin{bmatrix}\n",
    "    0          & 0           & 0          &  0 \\\\\n",
    "    B_{e_{10}} & 0           & 0          &  0 \\\\\n",
    "    B_{e_{20}} & B_{e_{21}}  & 0          &  0 \\\\\n",
    "    B_{e_{30}} & B_{e_{31}}  & B_{e_{32}} &  0 \\\\\n",
    "\\end{bmatrix} = \\frac{8 \\pi \\hbar \\nu^3}{c^3} \\mathbf{A}\n",
    "$$\n",
    "\n",
    "<font color='blue'>$B_{e_{ij}} = $ stimulated emission from  $i \\rightarrow j$ where $i$ is the upper level and $j$ is the lower level ($i > j$)</font>\n",
    "\n",
    "$$ \n",
    "\\mathbf{B_a} = \n",
    "\\begin{bmatrix}\n",
    "    0          & B_{a_{01}}  & B_{a_{02}} &  B_{a_{03}} \\\\\n",
    "    0          & 0           & B_{a_{12}} &  B_{a_{13}} \\\\\n",
    "    0          & 0           & 0          &  B_{a_{23}} \\\\\n",
    "    0          & 0           & 0          &  0          \\\\\n",
    "\\end{bmatrix}\n",
    "$$\n",
    "\n",
    "\n",
    "<font color='blue'>$B_{a_{ij}} = $ stimulated excitation (absorbtion) from $i \\rightarrow j$ where $i$ is the lower level and $j$ is the upper level ($i < j$)</font>\n",
    "\n",
    "\n",
    "\n",
    "\n",
    "\n",
    "#### Collision Coefficients\n",
    "We follow the same convention for the collisional coeffients $K_{ij}$, where $n_u n_c K_{ul}$ is the transition\n",
    "rate from level $u$ to level $l$. The collisions take place among the partner with density $n_c$. The\n",
    "product $n_u n_c K_{ul}$ has the dimensions of volume per unit time. $K_{ul}$ is related to $K_{lu}$ via:\n",
    "$$ K_{lu} = \\frac{g_u}{g_l} K_{ul} e^{-\\frac{E_{ul}}{k_b T_{kin}}} $$\n",
    "\n",
    "In matrix form this becomes:\n",
    "\n",
    "$$ \n",
    "\\mathbf{K} = \n",
    "\\begin{bmatrix}\n",
    "    0      & K_{01} & K_{02} &  K_{03} \\\\\n",
    "    K_{10} & 0      & K_{12} &  K_{13} \\\\\n",
    "    K_{20} & K_{21} & 0      &  K_{23} \\\\\n",
    "    K_{30} & K_{31} & K_{32} &  0 \\\\\n",
    "\\end{bmatrix}\n",
    "=\n",
    "\\begin{bmatrix}\n",
    "    0&\n",
    "    \\frac{g_1}{g_0}K_{10}e^{-\\frac{|E_{10}|}{k_b T_{kin}}}&\n",
    "    \\frac{g_2}{g_0}K_{20}e^{-\\frac{|E_{20}|}{k_b T_{kin}}}&\n",
    "    \\frac{g_3}{g_0}K_{30}e^{-\\frac{|E_{30}|}{k_b T_{kin}}} \\\\\n",
    "    K_{10}&\n",
    "    0&\n",
    "    \\frac{g_2}{g_1}K_{21}e^{-\\frac{|E_{21}|}{k_b T_{kin}}}&\n",
    "    \\frac{g_3}{g_1}K_{31}e^{-\\frac{|E_{31}|}{k_b T_{kin}}}\\\\\n",
    "    K_{20}&\n",
    "    K_{21}&\n",
    "    0&\n",
    "    \\frac{g_3}{g_2}K_{32}e^{-\\frac{|E_{32}|}{k_b T_{kin}}}\\\\\n",
    "    K_{30}&\n",
    "    K_{31}&\n",
    "    K_{32}\n",
    "    &  0 \\\\\n",
    "\\end{bmatrix}\n",
    "$$\n",
    "\n",
    "<font color='blue'>$K_{ij} = $ collisional coefficients from level $i$ to level $j$. The lower\n",
    "triangular part represents the de-excitation collisional coefficients ($i > j$). The upper triangular\n",
    "part represents the collisional excitation coefficients from a lower level to an upper level where\n",
    "$(i < j)$.</font>\n",
    "\n",
    "\n",
    "<font color='red'>$K_{ii} = 0$ since the pure elastic collisions are not considered.</font>\n",
    "\n",
    "\n"
   ]
  },
  {
   "cell_type": "markdown",
   "metadata": {},
   "source": [
    "The matrix $\\mathbf{M}$ is the matrix that when multiplies with the column vector of the population densities\n",
    "results in the RHS.\n",
    "\n",
    "$$ \\mathbf{M} = D + O $$\n",
    "\n",
    "The diagonal terms of the full RHS matrix multiplying the population densities\n",
    "$$ \n",
    "\\mathbf{D} = \n",
    "\\begin{bmatrix}\n",
    "    D_{00} & 0      & 0      & 0 \\\\\n",
    "    0      & D_{11} & 0      & 0 \\\\\n",
    "    0      & 0      & D_{22} & 0 \\\\\n",
    "    0      & 0      & 0      & D_{33}\\\\\n",
    "\\end{bmatrix}$$\n",
    "\n",
    "and $\\mathbf{O}$ is the matrix holding the offdiagonal terms, where:\n",
    "\n",
    "$$ \\mathbf{O} = (\\mathbf{A} + \\mathbf{B}J_{\\nu} + \\mathbf{K}n_c)^{T}$$\n"
   ]
  },
  {
   "cell_type": "markdown",
   "metadata": {},
   "source": [
    "$$\\begin{split}\\frac{dn_i}{dt}&=\\sum_{j=i+1}^{N-1}n_j\\left[n_ck_{ji}+(1+\\bar{n}_{\\gamma_{ji}})A_{ji}\\right]+\\sum_{j=0}^{i-1}n_jn_ck_{ji}\\\\ &+\\sum_{j=0}^{i-1}n_j\\frac{g_i}{g_j}\\bar{n}_{\\gamma_{ij}}A_{ij} \\\\&-n_i\\sum_{j=0}^{i-1}\\left[ n_ck_{ij}+(1+n_{\\gamma_{ij}})A_{ij}\\right] -n_i\\sum_{j=i+1}^{N-1}n_ck_{ij} \\\\ &-n_i\\sum_{j=i+1}^{N-1}\\frac{g_j}{g_i}\\bar{n}_{\\gamma_{ji}}A_{ji}\\end{split}$$"
   ]
  },
  {
   "cell_type": "markdown",
   "metadata": {
    "collapsed": true
   },
   "source": []
  },
  {
   "cell_type": "markdown",
   "metadata": {},
   "source": [
    "the indicex i j stands for the collision rates from level i to level j $$\\rightarrow$$ we have 0 on the diagonal"
   ]
  },
  {
   "cell_type": "markdown",
   "metadata": {},
   "source": [
    "$$\\bar{n}_{\\gamma_{ij}}=\\frac{1}{\\exp^{{\\Delta E}/kT}-1}$$"
   ]
  },
  {
   "cell_type": "markdown",
   "metadata": {},
   "source": [
    "$$n_{\\gamma_{ij}}=n_{\\gamma_{ji}}$$"
   ]
  },
  {
   "cell_type": "markdown",
   "metadata": {},
   "source": [
    "$$ \\begin{equation}k_{ij} = \\left\\{ \n",
    "  \\begin{aligned}\n",
    "  & \\neq  0 ~ i>j\\\\ \n",
    "  & = 0  ~ i = j\\\\\n",
    "  & \\frac{g_j}{g_i}k_{ji}\\exp^{-E_0/KT} ~ i< j \\\\\n",
    "  \\end{aligned}\n",
    "\\right\\}\n",
    "\\end{equation}\n",
    "$$"
   ]
  },
  {
   "cell_type": "markdown",
   "metadata": {
    "collapsed": true
   },
   "source": []
  },
  {
   "cell_type": "markdown",
   "metadata": {
    "collapsed": false
   },
   "source": [
    "<img src=\"level_population.svg\">"
   ]
  },
  {
   "cell_type": "markdown",
   "metadata": {
    "collapsed": true
   },
   "source": [
    "$$\\begin{split}\\frac{dn_i}{dt} &= \\sum_{i<j} [n_c K_{ji}]n_j-\\sum_{j<i} [n_c K_{ij}]n_i\\\\&+\\sum_{i<j} [1+n_{\\gamma}] A_{ji}n_j-\\sum_{j<i} [1+n_{\\gamma}] A_{ji}n_j\\\\ &+ \\sum_{j<i} \\left[ \\frac{g_i}{g_j}n_{\\gamma}A_{ji}\\right]n_j-\\sum_{i<j} \\left[ \\frac{g_j}{g_i}n_{\\gamma}A_{ij}\\right]n_i\\end{split}$$"
   ]
  },
  {
   "cell_type": "code",
   "execution_count": null,
   "metadata": {
    "collapsed": true
   },
   "outputs": [],
   "source": []
  },
  {
   "cell_type": "code",
   "execution_count": null,
   "metadata": {
    "collapsed": true
   },
   "outputs": [],
   "source": []
  },
  {
   "cell_type": "code",
   "execution_count": null,
   "metadata": {
    "collapsed": true
   },
   "outputs": [],
   "source": []
  }
 ],
 "metadata": {
  "kernelspec": {
   "display_name": "Python 2",
   "language": "python",
   "name": "python2"
  },
  "language_info": {
   "codemirror_mode": {
    "name": "ipython",
    "version": 2
   },
   "file_extension": ".py",
   "mimetype": "text/x-python",
   "name": "python",
   "nbconvert_exporter": "python",
   "pygments_lexer": "ipython2",
   "version": "2.7.10"
  }
 },
 "nbformat": 4,
 "nbformat_minor": 0
}
