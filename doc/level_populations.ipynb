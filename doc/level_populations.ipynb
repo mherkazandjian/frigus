{
 "cells": [
  {
   "cell_type": "markdown",
   "metadata": {},
   "source": [
    "$$\\begin{split}\\frac{dn_i}{dt}&=\\sum_{j=i+1}^{N-1}n_j\\left[n_ck_{ji}+(1+\\bar{n}_{\\gamma_{ji}})A_{ji}\\right]+\\sum_{j=0}^{i-1}n_jn_ck_{ji}\\\\ &+\\sum_{j=0}^{i-1}n_j\\frac{g_i}{g_j}\\bar{n}_{\\gamma_{ij}}A_{ij} \\\\&-n_i\\sum_{j=0}^{i-1}\\left[ n_ck_{ij}+(1+n_{\\gamma_{ij}})A_{ij}\\right] -n_i\\sum_{j=i+1}^{N-1}n_ck_{ij} \\\\ &-n_i\\sum_{j=i+1}^{N-1}\\frac{g_j}{g_i}\\bar{n}_{\\gamma_{ji}}A_{ji}\\end{split}$$"
   ]
  },
  {
   "cell_type": "markdown",
   "metadata": {
    "collapsed": true
   },
   "source": [
    "$$ \\begin{equation}A = \\left\\{ \n",
    "  \\begin{aligned}\n",
    "  & \\neq  0 ~ i>j\\\\ \n",
    "  & = 0  ~ i \\leq j\\\\\n",
    "  \\end{aligned}\n",
    " \\right\\}\n",
    "\\end{equation}\n",
    "$$\n",
    "in the lower triangular part $$i>j$$ hence those correspond to the transitions from an upper to a lower level"
   ]
  },
  {
   "cell_type": "markdown",
   "metadata": {},
   "source": [
    "$$\\bar{n}_{\\gamma_{ij}}=\\frac{1}{\\exp^{{\\Delta E}/kT}-1}$$"
   ]
  },
  {
   "cell_type": "markdown",
   "metadata": {},
   "source": [
    "$$n_{\\gamma_{ij}}=n_{\\gamma_{ji}}$$"
   ]
  },
  {
   "cell_type": "markdown",
   "metadata": {},
   "source": [
    "$$ \\begin{equation}k_{ij} = \\left\\{ \n",
    "  \\begin{aligned}\n",
    "  & \\neq  0 ~ i>j\\\\ \n",
    "  & = 0  ~ i = j\\\\\n",
    "  & \\frac{g_j}{g_i}k_{ji}\\exp^{-E_0/KT} ~ i< j \\\\\n",
    "  \\end{aligned}\n",
    "\\right\\}\n",
    "\\end{equation}\n",
    "$$"
   ]
  },
  {
   "cell_type": "markdown",
   "metadata": {
    "collapsed": true
   },
   "source": []
  },
  {
   "cell_type": "markdown",
   "metadata": {
    "collapsed": false
   },
   "source": [
    "<img src=\"level_population.svg\">"
   ]
  },
  {
   "cell_type": "markdown",
   "metadata": {
    "collapsed": true
   },
   "source": []
  },
  {
   "cell_type": "code",
   "execution_count": null,
   "metadata": {
    "collapsed": true
   },
   "outputs": [],
   "source": []
  },
  {
   "cell_type": "code",
   "execution_count": null,
   "metadata": {
    "collapsed": true
   },
   "outputs": [],
   "source": []
  },
  {
   "cell_type": "code",
   "execution_count": null,
   "metadata": {
    "collapsed": true
   },
   "outputs": [],
   "source": []
  }
 ],
 "metadata": {
  "kernelspec": {
   "display_name": "Python 2",
   "language": "python",
   "name": "python2"
  },
  "language_info": {
   "codemirror_mode": {
    "name": "ipython",
    "version": 2
   },
   "file_extension": ".py",
   "mimetype": "text/x-python",
   "name": "python",
   "nbconvert_exporter": "python",
   "pygments_lexer": "ipython2",
   "version": "2.7.10"
  }
 },
 "nbformat": 4,
 "nbformat_minor": 0
}
