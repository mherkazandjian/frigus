{
 "cells": [
  {
   "cell_type": "markdown",
   "metadata": {},
   "source": [
    "## Python Prompt"
   ]
  },
  {
   "cell_type": "markdown",
   "metadata": {},
   "source": [
    "### Interactive"
   ]
  },
  {
   "cell_type": "markdown",
   "metadata": {},
   "source": [
    "You can perform all operation interactively from the Python or IPython prompt. By default, it will output the result, so there is no need for some `print` command."
   ]
  },
  {
   "cell_type": "code",
   "execution_count": null,
   "metadata": {
    "collapsed": false
   },
   "outputs": [],
   "source": [
    "# Multiplication \n",
    "2 * 3"
   ]
  },
  {
   "cell_type": "code",
   "execution_count": null,
   "metadata": {
    "collapsed": false
   },
   "outputs": [],
   "source": [
    "# Division (floating point - default behavior in python3)\n",
    "8 / 3"
   ]
  },
  {
   "cell_type": "code",
   "execution_count": null,
   "metadata": {
    "collapsed": false
   },
   "outputs": [],
   "source": [
    "# integer (floor) division\n",
    "8 // 3"
   ]
  },
  {
   "cell_type": "code",
   "execution_count": null,
   "metadata": {
    "collapsed": false
   },
   "outputs": [],
   "source": [
    "# Multiplication of strings\n",
    "'abc' * 5"
   ]
  },
  {
   "cell_type": "code",
   "execution_count": null,
   "metadata": {
    "collapsed": false
   },
   "outputs": [],
   "source": [
    "# Power operator\n",
    "3 ** 4"
   ]
  },
  {
   "cell_type": "code",
   "execution_count": null,
   "metadata": {
    "collapsed": false
   },
   "outputs": [],
   "source": [
    "# Modulo (remainder)\n",
    "13 % 2"
   ]
  },
  {
   "cell_type": "markdown",
   "metadata": {},
   "source": [
    "everything after the # symbol is a comment"
   ]
  },
  {
   "cell_type": "markdown",
   "metadata": {},
   "source": [
    "## Defining variables"
   ]
  },
  {
   "cell_type": "markdown",
   "metadata": {},
   "source": [
    "Python variables are dynamically typed and upcasting is happening:"
   ]
  },
  {
   "cell_type": "code",
   "execution_count": null,
   "metadata": {
    "collapsed": false
   },
   "outputs": [],
   "source": [
    "a = 3     # int\n",
    "b = 3.    # float\n",
    "print(a, type(a))\n",
    "print(b, type(b))"
   ]
  },
  {
   "cell_type": "markdown",
   "metadata": {},
   "source": [
    "**Upcasting** is the mechanismn which transforms the type of a variable when needed:"
   ]
  },
  {
   "cell_type": "code",
   "execution_count": null,
   "metadata": {
    "collapsed": false
   },
   "outputs": [],
   "source": [
    "a = 1\n",
    "print(a, type(a))"
   ]
  },
  {
   "cell_type": "code",
   "execution_count": null,
   "metadata": {
    "collapsed": false
   },
   "outputs": [],
   "source": [
    "a = a*0.1\n",
    "print(a, type(a))"
   ]
  },
  {
   "cell_type": "code",
   "execution_count": null,
   "metadata": {
    "collapsed": false
   },
   "outputs": [],
   "source": [
    "c = a + b\n",
    "print(c, type(c))"
   ]
  },
  {
   "cell_type": "code",
   "execution_count": null,
   "metadata": {
    "collapsed": false
   },
   "outputs": [],
   "source": [
    "boolean = True\n",
    "print(boolean, type(boolean))"
   ]
  },
  {
   "cell_type": "markdown",
   "metadata": {},
   "source": [
    "Types can also be used to explicitly **cast** variables."
   ]
  },
  {
   "cell_type": "markdown",
   "metadata": {},
   "source": [
    "convert an integer to a float:"
   ]
  },
  {
   "cell_type": "code",
   "execution_count": null,
   "metadata": {
    "collapsed": false
   },
   "outputs": [],
   "source": [
    "a = float(3)\n",
    "print(a, type(a))"
   ]
  },
  {
   "cell_type": "markdown",
   "metadata": {},
   "source": [
    "convert a string to an integer:"
   ]
  },
  {
   "cell_type": "code",
   "execution_count": null,
   "metadata": {
    "collapsed": false
   },
   "outputs": [],
   "source": [
    "a = int('3')\n",
    "print(a, type(a))"
   ]
  },
  {
   "cell_type": "markdown",
   "metadata": {},
   "source": [
    "convert a float to a string:"
   ]
  },
  {
   "cell_type": "code",
   "execution_count": null,
   "metadata": {
    "collapsed": false
   },
   "outputs": [],
   "source": [
    "a = str(3.3)\n",
    "print(a, type(a))"
   ]
  },
  {
   "cell_type": "markdown",
   "metadata": {},
   "source": [
    "To recover memory, all Python variables can be deleted. However this is hardly ever necessary because Python is a managed language with its own garbage collector."
   ]
  },
  {
   "cell_type": "code",
   "execution_count": null,
   "metadata": {
    "collapsed": false
   },
   "outputs": [],
   "source": [
    "del(c, boolean)"
   ]
  },
  {
   "cell_type": "code",
   "execution_count": null,
   "metadata": {
    "collapsed": false
   },
   "outputs": [],
   "source": [
    "print(c)   # raises an exception"
   ]
  },
  {
   "cell_type": "markdown",
   "metadata": {},
   "source": [
    "Some names can not be used with [Python](https://docs.python.org/2/reference/lexical_analysis.html#keywords)"
   ]
  },
  {
   "cell_type": "markdown",
   "metadata": {},
   "source": [
    "## Main Python objects"
   ]
  },
  {
   "cell_type": "markdown",
   "metadata": {},
   "source": [
    "**Everything** in python is an object, with attributes and methods. You can access them with a `.` after the variable name. \n",
    "\n",
    "Using IPython a *tab* will show you the list of attributes and methods of a given object:"
   ]
  },
  {
   "cell_type": "code",
   "execution_count": null,
   "metadata": {
    "collapsed": false
   },
   "outputs": [],
   "source": [
    "a = 1  # Even int are objects\n",
    "print(type(a))"
   ]
  },
  {
   "cell_type": "code",
   "execution_count": null,
   "metadata": {
    "collapsed": false
   },
   "outputs": [],
   "source": [
    "print(a.real) # access the real attribute\n",
    "print(a.imag) # access the imaginary attribute"
   ]
  },
  {
   "cell_type": "code",
   "execution_count": null,
   "metadata": {
    "collapsed": false
   },
   "outputs": [],
   "source": [
    "# define a simple function\n",
    "def foo():\n",
    "    \"\"\"a dummy function that returns 1\"\"\"\n",
    "    return 777\n",
    "\n",
    "print(foo())"
   ]
  },
  {
   "cell_type": "markdown",
   "metadata": {},
   "source": [
    "### Intrisic Python List [ ]"
   ]
  },
  {
   "cell_type": "markdown",
   "metadata": {},
   "source": [
    "A list in Python is a set of ordered objects. It can be created empty:"
   ]
  },
  {
   "cell_type": "code",
   "execution_count": null,
   "metadata": {
    "collapsed": false
   },
   "outputs": [],
   "source": [
    "l = []\n",
    "print(type(l))\n",
    "\n",
    "# another equivalent syntax for creating a list\n",
    "ll = list()\n",
    "print(type(ll))"
   ]
  },
  {
   "cell_type": "markdown",
   "metadata": {},
   "source": [
    "and later populated:"
   ]
  },
  {
   "cell_type": "code",
   "execution_count": null,
   "metadata": {
    "collapsed": false
   },
   "outputs": [],
   "source": [
    "l.append('abxy')    # using the append method of python list object\n",
    "print(l)"
   ]
  },
  {
   "cell_type": "markdown",
   "metadata": {},
   "source": [
    "or its elements can be defined at once:"
   ]
  },
  {
   "cell_type": "code",
   "execution_count": null,
   "metadata": {
    "collapsed": false
   },
   "outputs": [],
   "source": [
    "l = [10, 5.,'cc','dd','ff']\n",
    "print(l)"
   ]
  },
  {
   "cell_type": "markdown",
   "metadata": {},
   "source": [
    "As you see, an intrinsic python list **can mix different types**"
   ]
  },
  {
   "cell_type": "markdown",
   "metadata": {},
   "source": [
    "You can also remove the last element using the 'pop' method:"
   ]
  },
  {
   "cell_type": "code",
   "execution_count": null,
   "metadata": {
    "collapsed": false
   },
   "outputs": [],
   "source": [
    "last_element = l.pop() # it can also be used as l.pop() without the assignement\n",
    "print(last_element)\n",
    "print(l)"
   ]
  },
  {
   "cell_type": "markdown",
   "metadata": {},
   "source": [
    "Accessing elements is simple, remember python is 0-indexed"
   ]
  },
  {
   "cell_type": "code",
   "execution_count": null,
   "metadata": {
    "collapsed": false
   },
   "outputs": [],
   "source": [
    "l[2] # Accessing the third element (python is 0-indexed)"
   ]
  },
  {
   "cell_type": "code",
   "execution_count": null,
   "metadata": {
    "collapsed": false
   },
   "outputs": [],
   "source": [
    "l[-2] # Accessing the second-last element"
   ]
  },
  {
   "cell_type": "code",
   "execution_count": null,
   "metadata": {
    "collapsed": false
   },
   "outputs": [],
   "source": [
    "l[1] = True # setting the value of the second element\n",
    "print(l)"
   ]
  },
  {
   "cell_type": "markdown",
   "metadata": {},
   "source": [
    "**Slicing**, i.e. taking a subsample of a list, it is very powerful in python. The syntax is *`list[start : stop : step]`* where *`start`* and *`stop`* are indices and *`step`* is a number of elements to jump ahead. By default, start = 0, stop = end and step = 1\n",
    "\n",
    "**NOTE**: the *`stop`* argument is the index of the last element that is **not** included in the slice."
   ]
  },
  {
   "cell_type": "code",
   "execution_count": null,
   "metadata": {
    "collapsed": false
   },
   "outputs": [],
   "source": [
    "l[2:]  # from 3rd element until the end"
   ]
  },
  {
   "cell_type": "code",
   "execution_count": null,
   "metadata": {
    "collapsed": false
   },
   "outputs": [],
   "source": [
    "l[:2] # from the start up to the 3rd element (not included)"
   ]
  },
  {
   "cell_type": "code",
   "execution_count": null,
   "metadata": {
    "collapsed": false
   },
   "outputs": [],
   "source": [
    "l[:-2] # from start to the end minus 2"
   ]
  },
  {
   "cell_type": "code",
   "execution_count": null,
   "metadata": {
    "collapsed": false
   },
   "outputs": [],
   "source": [
    "l[1::2] # select every other elemnt starting from the second element"
   ]
  },
  {
   "cell_type": "code",
   "execution_count": null,
   "metadata": {
    "collapsed": false
   },
   "outputs": [],
   "source": [
    "l[::-1] # will reverse the list (same as l[-1:-5:-1])"
   ]
  },
  {
   "cell_type": "markdown",
   "metadata": {},
   "source": [
    "**Concatenation** of list is done using the *+* operand"
   ]
  },
  {
   "cell_type": "code",
   "execution_count": null,
   "metadata": {
    "collapsed": false
   },
   "outputs": [],
   "source": [
    "a = [1, 2]\n",
    "b = [3, 4]\n",
    "c = a + b + [10, 11, 4]\n",
    "print(c)"
   ]
  },
  {
   "cell_type": "markdown",
   "metadata": {},
   "source": [
    "### Tuples ( )"
   ]
  },
  {
   "cell_type": "markdown",
   "metadata": {},
   "source": [
    "A 'tuple' is a special type of object, useful to pack and unpack variables together; it is mostly used in returning arguments of functions. Tuples are immutable (i.e. they are read-only, once they are\n",
    "created, they can not be modified)."
   ]
  },
  {
   "cell_type": "code",
   "execution_count": null,
   "metadata": {
    "collapsed": false
   },
   "outputs": [],
   "source": [
    "a = (2, 'a', 10.1) # a way to simply pack ...\n",
    "print(a)"
   ]
  },
  {
   "cell_type": "code",
   "execution_count": null,
   "metadata": {
    "collapsed": false
   },
   "outputs": [],
   "source": [
    "index, name, value = a # ... and unpack several values together\n",
    "print(index)\n",
    "print(name, value)"
   ]
  },
  {
   "cell_type": "code",
   "execution_count": null,
   "metadata": {
    "collapsed": false
   },
   "outputs": [],
   "source": [
    "a[1] = 5  # this will raise an exception since tuples are immutable"
   ]
  },
  {
   "cell_type": "markdown",
   "metadata": {},
   "source": [
    "### Dictionaries { }"
   ]
  },
  {
   "cell_type": "markdown",
   "metadata": {},
   "source": [
    "Dictionaries are associative arrays, kind of un-ordered lists, that you can access using keys, close to IDL struct. Keys can be strings, numbers or objects."
   ]
  },
  {
   "cell_type": "code",
   "execution_count": null,
   "metadata": {
    "collapsed": false
   },
   "outputs": [],
   "source": [
    "mydict = {'first': 1, 'second':[2, 3], 2: 23}\n",
    "print(mydict)"
   ]
  },
  {
   "cell_type": "code",
   "execution_count": null,
   "metadata": {
    "collapsed": false
   },
   "outputs": [],
   "source": [
    "mydict['first'] # will access the element with key first"
   ]
  },
  {
   "cell_type": "code",
   "execution_count": null,
   "metadata": {
    "collapsed": false
   },
   "outputs": [],
   "source": [
    "mydict.keys() # will return the list of keys"
   ]
  },
  {
   "cell_type": "code",
   "execution_count": null,
   "metadata": {
    "collapsed": false
   },
   "outputs": [],
   "source": [
    "mydict.values() # will returns of the values"
   ]
  },
  {
   "cell_type": "code",
   "execution_count": null,
   "metadata": {
    "collapsed": false
   },
   "outputs": [],
   "source": [
    "mydict['fourth'] = 4 # will add a new key to the dictionnary\n",
    "print(mydict)"
   ]
  },
  {
   "cell_type": "markdown",
   "metadata": {},
   "source": [
    "dictionaries can be created also by passing arguments to dict()"
   ]
  },
  {
   "cell_type": "code",
   "execution_count": null,
   "metadata": {
    "collapsed": false
   },
   "outputs": [],
   "source": [
    "my_other_dict = dict(first=1, second=[2, 3], third=['a', 'b', 'c'])\n",
    "print(my_other_dict)"
   ]
  },
  {
   "cell_type": "markdown",
   "metadata": {},
   "source": [
    "**NOTE** ordered dictionaries do exist in Python. They can be found in the module **`collections`** https://docs.python.org/3/library/collections.html"
   ]
  },
  {
   "cell_type": "markdown",
   "metadata": {},
   "source": [
    "### Collections"
   ]
  },
  {
   "cell_type": "markdown",
   "metadata": {},
   "source": [
    "#### dict() vs OrderedDict"
   ]
  },
  {
   "cell_type": "code",
   "execution_count": null,
   "metadata": {
    "collapsed": false
   },
   "outputs": [],
   "source": [
    "from collections import OrderedDict\n",
    "my_ordered_dict = OrderedDict()      # create an ordered dict instance\n",
    "my_ordered_dict['first'] = 1\n",
    "my_ordered_dict['second'] = [2, 3]\n",
    "my_ordered_dict['third'] = ['a', 'b', 'c']\n",
    "print('ordered:', my_ordered_dict)\n",
    "print('default', my_other_dict)"
   ]
  },
  {
   "cell_type": "markdown",
   "metadata": {},
   "source": [
    "### Strings \" \" or ' '"
   ]
  },
  {
   "cell_type": "markdown",
   "metadata": {},
   "source": [
    "Strings in Python act as lists of characters."
   ]
  },
  {
   "cell_type": "code",
   "execution_count": null,
   "metadata": {
    "collapsed": false
   },
   "outputs": [],
   "source": [
    "my_str = 'abc'\n",
    "print(my_str[0], my_str[2])"
   ]
  },
  {
   "cell_type": "code",
   "execution_count": null,
   "metadata": {
    "collapsed": false
   },
   "outputs": [],
   "source": [
    "my_new_str = mystr + 'efg'\n",
    "print(my_new_str)"
   ]
  },
  {
   "cell_type": "markdown",
   "metadata": {},
   "source": [
    "There are two ways of including a variable into a string (more info [here](https://docs.python.org/2/library/string.html#formatstrings))\n",
    " - the `%` method (deprecated) [don't use it in production code]\n",
    " - the `format` method\n",
    "  \n",
    "The former is more concise but the latter as many more advantages.\n",
    "A good comparison between new and old formatting can be found [here](https://pyformat.info/)"
   ]
  },
  {
   "cell_type": "code",
   "execution_count": null,
   "metadata": {
    "collapsed": false
   },
   "outputs": [],
   "source": [
    "name = 'Tom'\n",
    "age = 46\n",
    "size = 1.783"
   ]
  },
  {
   "cell_type": "markdown",
   "metadata": {},
   "source": [
    "Using the **`%` method**, you must specify the type of the variable withing the string, e.g. `%s` for a str, `%f` for a float, etc."
   ]
  },
  {
   "cell_type": "code",
   "execution_count": null,
   "metadata": {
    "collapsed": false
   },
   "outputs": [],
   "source": [
    "s = \"%s is %d years old and is %.2f m tall\"  # for every number, the precision can be specified ; two decimals here\n",
    "print(s % (name, age, size))"
   ]
  },
  {
   "cell_type": "markdown",
   "metadata": {},
   "source": [
    "The **`.format()` method** is aware of the variable type and does the casting."
   ]
  },
  {
   "cell_type": "code",
   "execution_count": null,
   "metadata": {
    "collapsed": false
   },
   "outputs": [],
   "source": [
    "s2 = \"{} is {} years old and is {:.2f} m tall\"\n",
    "print(s2.format(name, age, size)) # Tuple unpacking"
   ]
  },
  {
   "cell_type": "markdown",
   "metadata": {},
   "source": [
    "which is equivelant to:"
   ]
  },
  {
   "cell_type": "code",
   "execution_count": null,
   "metadata": {
    "collapsed": false
   },
   "outputs": [],
   "source": [
    "s2 = \"{name} is {age} years old and is {size:.2f} m tall\"\n",
    "print(s2.format(name='Tom', size=1.783, age=46))"
   ]
  },
  {
   "cell_type": "markdown",
   "metadata": {},
   "source": [
    "It can work with dictionaries keys"
   ]
  },
  {
   "cell_type": "code",
   "execution_count": null,
   "metadata": {
    "collapsed": false
   },
   "outputs": [],
   "source": [
    "dct = {'name': 'Tom',\n",
    "       'age': 46,\n",
    "       'size': 1.78}\n",
    "\n",
    "s3 = \"{name} is {age} years old and is {size:1.2f} m tall, but let's recall his age : {age}\"\n",
    " \n",
    "print(s3.format(**dct))  # dictionary unpacking"
   ]
  },
  {
   "cell_type": "markdown",
   "metadata": {},
   "source": [
    "joining strings is easy"
   ]
  },
  {
   "cell_type": "code",
   "execution_count": null,
   "metadata": {
    "collapsed": false
   },
   "outputs": [],
   "source": [
    "print(' '.join(['a', 'b', 'xyz']))\n",
    "print('-'.join(['a', 'b', 'xyz']))"
   ]
  },
  {
   "cell_type": "markdown",
   "metadata": {},
   "source": [
    "## Copying variables"
   ]
  },
  {
   "cell_type": "markdown",
   "metadata": {},
   "source": [
    "All variables are objects in python and assignement only gives a reference. Thus there is a small subtility compared to other programming language: "
   ]
  },
  {
   "cell_type": "code",
   "execution_count": null,
   "metadata": {
    "collapsed": false
   },
   "outputs": [],
   "source": [
    "a = [1, 2, 3] # a gets its own reference (identity) in memory\n",
    "b = a         # beware that you are assigning references in memory here, so b points to a content\n",
    "\n",
    "print('{}\\n{}'.format(id(a), id(b))) # actual memory references, they are the same"
   ]
  },
  {
   "cell_type": "markdown",
   "metadata": {},
   "source": [
    "changing an entry in **a** will change the same entry in **b** as they are effectively the same object"
   ]
  },
  {
   "cell_type": "markdown",
   "metadata": {},
   "source": [
    "official documentation for **id** can be found [here](https://docs.python.org/2/library/functions.html#id)"
   ]
  },
  {
   "cell_type": "code",
   "execution_count": null,
   "metadata": {
    "collapsed": false
   },
   "outputs": [],
   "source": [
    "a[2] = 4   # thus changing a...\n",
    "print(a, b) # ... will change b"
   ]
  },
  {
   "cell_type": "code",
   "execution_count": null,
   "metadata": {
    "collapsed": false
   },
   "outputs": [],
   "source": [
    "a = a + [2, 3, 4] # Changing the full object will create a new id, \n",
    "print(a, b)"
   ]
  },
  {
   "cell_type": "markdown",
   "metadata": {},
   "source": [
    "To avoid this behavior you can copy an object using the copy module (see later for explanation on module)"
   ]
  },
  {
   "cell_type": "code",
   "execution_count": null,
   "metadata": {
    "collapsed": false
   },
   "outputs": [],
   "source": [
    "# This will import the copy module, see later for explanation\n",
    "import copy\n",
    "c = copy.copy(a)\n",
    "a[0] = 99\n",
    "print('', a, '\\n', c)"
   ]
  },
  {
   "cell_type": "markdown",
   "metadata": {},
   "source": [
    "Python offer a easy was to dump and reload (serialize) variable to disk, it is provided by the `pickle` or `cPickle` module, whose usage is similar to the SAVE/RESTORE command from IDL"
   ]
  },
  {
   "cell_type": "code",
   "execution_count": null,
   "metadata": {
    "collapsed": false
   },
   "outputs": [],
   "source": [
    "import pickle\n",
    "a, b = 1, 2.\n",
    "\n",
    "pickle.dump((a, b), open('myfile.pickle', 'wb'))"
   ]
  },
  {
   "cell_type": "code",
   "execution_count": null,
   "metadata": {
    "collapsed": false
   },
   "outputs": [],
   "source": [
    "!ls *.pickle"
   ]
  },
  {
   "cell_type": "code",
   "execution_count": null,
   "metadata": {
    "collapsed": false
   },
   "outputs": [],
   "source": [
    "(c, d) = pickle.load(open('myfile.pickle', 'rb'))\n",
    "print(c)\n",
    "print(d)"
   ]
  },
  {
   "cell_type": "markdown",
   "metadata": {},
   "source": [
    "## Logical Operations and Loops"
   ]
  },
  {
   "cell_type": "markdown",
   "metadata": {},
   "source": [
    "### Logical operations"
   ]
  },
  {
   "cell_type": "code",
   "execution_count": null,
   "metadata": {
    "collapsed": false
   },
   "outputs": [],
   "source": [
    "a = 2\n",
    "b = 4\n",
    "\n",
    "print(a == b) # The equality test will return a boolean"
   ]
  },
  {
   "cell_type": "code",
   "execution_count": null,
   "metadata": {
    "collapsed": false
   },
   "outputs": [],
   "source": [
    "print(a > b, a >= b)"
   ]
  },
  {
   "cell_type": "code",
   "execution_count": null,
   "metadata": {
    "collapsed": false
   },
   "outputs": [],
   "source": [
    "print(a < b, a <= b)"
   ]
  },
  {
   "cell_type": "code",
   "execution_count": null,
   "metadata": {
    "collapsed": false
   },
   "outputs": [],
   "source": [
    "print(a != b)"
   ]
  },
  {
   "cell_type": "markdown",
   "metadata": {},
   "source": [
    "You can also use the `in` statement to test if an element is present in a list"
   ]
  },
  {
   "cell_type": "code",
   "execution_count": null,
   "metadata": {
    "collapsed": false
   },
   "outputs": [],
   "source": [
    "print(1 in [1, 2, 3])\n",
    "print('a' in ['a','b','c'])\n",
    "print('z' in 'abc')"
   ]
  },
  {
   "cell_type": "code",
   "execution_count": null,
   "metadata": {
    "collapsed": false
   },
   "outputs": [],
   "source": [
    "print ('z' not in 'abc' ) # not is used to inverse the test"
   ]
  },
  {
   "cell_type": "markdown",
   "metadata": {},
   "source": [
    "**True** vs **False** vs **None**"
   ]
  },
  {
   "cell_type": "code",
   "execution_count": null,
   "metadata": {
    "collapsed": false
   },
   "outputs": [],
   "source": [
    "print(True is True)"
   ]
  },
  {
   "cell_type": "code",
   "execution_count": null,
   "metadata": {
    "collapsed": false
   },
   "outputs": [],
   "source": [
    "print(True is False)"
   ]
  },
  {
   "cell_type": "code",
   "execution_count": null,
   "metadata": {
    "collapsed": false
   },
   "outputs": [],
   "source": [
    "print(True is None)"
   ]
  },
  {
   "cell_type": "code",
   "execution_count": null,
   "metadata": {
    "collapsed": false
   },
   "outputs": [],
   "source": [
    "print(False is None)"
   ]
  },
  {
   "cell_type": "markdown",
   "metadata": {},
   "source": [
    "### Ifs and Block of code"
   ]
  },
  {
   "cell_type": "markdown",
   "metadata": {},
   "source": [
    "Blocks of instructions are defined by an indentation. Indentation can be made of white spaces or tabs, but you can not mix the two. \n",
    "\n",
    "It is best pratice to use a **multiple of 4 spaces by convention**"
   ]
  },
  {
   "cell_type": "code",
   "execution_count": null,
   "metadata": {
    "collapsed": false
   },
   "outputs": [],
   "source": [
    "if a == 2:\n",
    "    print('Yes') # Define a block of code with 4 withe space"
   ]
  },
  {
   "cell_type": "markdown",
   "metadata": {},
   "source": [
    "Of course, several tests can be combined all at once"
   ]
  },
  {
   "cell_type": "code",
   "execution_count": null,
   "metadata": {
    "collapsed": false
   },
   "outputs": [],
   "source": [
    "a, b = 1, 5\n",
    "\n",
    "if (a == 1) and (b >=4):\n",
    "    print('Good')\n",
    "else:\n",
    "    print('Not so good')"
   ]
  },
  {
   "cell_type": "markdown",
   "metadata": {},
   "source": [
    "There is no `case` statement in Python, but you can use the elif structure"
   ]
  },
  {
   "cell_type": "code",
   "execution_count": null,
   "metadata": {
    "collapsed": false
   },
   "outputs": [],
   "source": [
    "if a == 1:\n",
    "    print('No')    \n",
    "elif a == 2:\n",
    "    print('Yes 2')\n",
    "else:\n",
    "    print('A lot more')"
   ]
  },
  {
   "cell_type": "markdown",
   "metadata": {},
   "source": [
    "### Loops"
   ]
  },
  {
   "cell_type": "markdown",
   "metadata": {},
   "source": [
    "Loops can be made in Python with `for` or `while` statements"
   ]
  },
  {
   "cell_type": "code",
   "execution_count": null,
   "metadata": {
    "collapsed": false
   },
   "outputs": [],
   "source": [
    "i = 0\n",
    "while i < 3:\n",
    "    print(i)\n",
    "    i += 1"
   ]
  },
  {
   "cell_type": "markdown",
   "metadata": {},
   "source": [
    "A `for` loop in Python uses objects it can iterate on, like lists or strings, or generators."
   ]
  },
  {
   "cell_type": "code",
   "execution_count": null,
   "metadata": {
    "collapsed": false
   },
   "outputs": [],
   "source": [
    "words = ['cool', 'powerful', 'readable']  # a list\n",
    "for word in words:                        # the for statement use list to go through\n",
    "    print(\"python is \" + word)"
   ]
  },
  {
   "cell_type": "code",
   "execution_count": null,
   "metadata": {
    "collapsed": false
   },
   "outputs": [],
   "source": [
    "for char in 'abc':                        # Remember strings are list of characters\n",
    "    print(char.upper())"
   ]
  },
  {
   "cell_type": "code",
   "execution_count": null,
   "metadata": {
    "collapsed": false
   },
   "outputs": [],
   "source": [
    "# generators\n",
    "print(range(10))     # range is a generator, a python function which return a list of int.\n",
    "print(range(5,10))\n",
    "print(range(3,9,3))"
   ]
  },
  {
   "cell_type": "code",
   "execution_count": null,
   "metadata": {
    "collapsed": false
   },
   "outputs": [],
   "source": [
    "for i in range(2, 8, 2):     # range can be used with the for statement to loop over indexes\n",
    "    print(i, 'Hello')"
   ]
  },
  {
   "cell_type": "markdown",
   "metadata": {},
   "source": [
    "Several lists can be combined in a `for` loop (up to the lowest length)"
   ]
  },
  {
   "cell_type": "code",
   "execution_count": null,
   "metadata": {
    "collapsed": false
   },
   "outputs": [],
   "source": [
    "words = ['cool', 'powerful', 'readable']\n",
    "superwords = ['fun', 'stable', 'easy']\n",
    "for word1, word2 in zip(words, superwords):\n",
    "    print( \"Python is \" + word1 + \" and \" + word2 )"
   ]
  },
  {
   "cell_type": "markdown",
   "metadata": {},
   "source": [
    "Using the `enumerate` function, you can also generate an index for a given list"
   ]
  },
  {
   "cell_type": "code",
   "execution_count": null,
   "metadata": {
    "collapsed": false
   },
   "outputs": [],
   "source": [
    "for i, word in enumerate(words):               # you may indexes over the list as well as the items\n",
    "    print(\"%i - python is %s\" % (i, word))"
   ]
  },
  {
   "cell_type": "markdown",
   "metadata": {},
   "source": [
    "## Functions and Modules and Classes"
   ]
  },
  {
   "cell_type": "markdown",
   "metadata": {},
   "source": [
    "### Defining functions"
   ]
  },
  {
   "cell_type": "markdown",
   "metadata": {},
   "source": [
    "\n",
    "Function are really usefull when you need to repeat a task several times. They can have two types of arguments\n",
    "- required argument, which needs to be present at the call of the function\n",
    "- optional arguments which **must** have a default value\n",
    "\n",
    "You can call the function either with the values of the arguments in the declaration order, or use keyword declaration without specific order, however non-keyword arguments should always come before the keyword arguments."
   ]
  },
  {
   "cell_type": "code",
   "execution_count": null,
   "metadata": {
    "collapsed": true
   },
   "outputs": [],
   "source": [
    "def do_nothing(): # simplest function ever with empty body.. doesn't do anything and returns None\n",
    "    pass"
   ]
  },
  {
   "cell_type": "code",
   "execution_count": null,
   "metadata": {
    "collapsed": false
   },
   "outputs": [],
   "source": [
    "print(do_nothing())"
   ]
  },
  {
   "cell_type": "code",
   "execution_count": null,
   "metadata": {
    "collapsed": false
   },
   "outputs": [],
   "source": [
    "print(do_nothing.__name__)"
   ]
  },
  {
   "cell_type": "code",
   "execution_count": null,
   "metadata": {
    "collapsed": false
   },
   "outputs": [],
   "source": [
    "def disk_area(radius, pi=3.14):\n",
    "    return pi*radius**2"
   ]
  },
  {
   "cell_type": "code",
   "execution_count": null,
   "metadata": {
    "collapsed": false
   },
   "outputs": [],
   "source": [
    "print(disk_area(2))\n",
    "print(disk_area(2, pi=3.14159))\n",
    "print(disk_area(pi=3.14, radius=2))"
   ]
  },
  {
   "cell_type": "code",
   "execution_count": null,
   "metadata": {
    "collapsed": false
   },
   "outputs": [],
   "source": [
    "arguments = {'pi': 3.14, 'radius': 2}  # Function arguments can be packed into a dictionnary\n",
    "print(disk_area(**arguments))       # and unpacked at the function call"
   ]
  },
  {
   "cell_type": "markdown",
   "metadata": {},
   "source": [
    "also functions are objects with attributes. You can access these attributes and even add attributes at runtime:"
   ]
  },
  {
   "cell_type": "code",
   "execution_count": null,
   "metadata": {
    "collapsed": false
   },
   "outputs": [],
   "source": [
    "print('The name of the function is \"%s\"' % disk_area.__name__)"
   ]
  },
  {
   "cell_type": "markdown",
   "metadata": {},
   "source": [
    "Add an attribute to the function:"
   ]
  },
  {
   "cell_type": "code",
   "execution_count": null,
   "metadata": {
    "collapsed": false
   },
   "outputs": [],
   "source": [
    "# this raises an exception as the attribute 'info' does not exist\n",
    "print(disk_area.info)"
   ]
  },
  {
   "cell_type": "markdown",
   "metadata": {},
   "source": [
    "add the attribute info"
   ]
  },
  {
   "cell_type": "code",
   "execution_count": null,
   "metadata": {
    "collapsed": false
   },
   "outputs": [],
   "source": [
    "disk_area.info = 'this function computes the area of the area of a circle'\n",
    "print(disk_area.info)"
   ]
  },
  {
   "cell_type": "markdown",
   "metadata": {},
   "source": [
    "Function documentation a.k.a docstrings"
   ]
  },
  {
   "cell_type": "code",
   "execution_count": null,
   "metadata": {
    "collapsed": true
   },
   "outputs": [],
   "source": [
    "def foo2(a, b, x=None, y=2, z=[], *args, **kwargs):\n",
    "    \"\"\"This is the docstring of the function. There are several ways to\n",
    "    document the parameters. For this function, we use the sphinx convention.\n",
    "    \n",
    "    :param a: This is the first positional argument. It is for ....\n",
    "    :param b: This is the seconds positional arugmet. It must be a ..\n",
    "    :param str x: A keyword argument for .... its default value is None\n",
    "    :param int y: A keyword argument for ...\n",
    "    :param iterable z: yet another keyword argument...\n",
    "    :param args: arguments list\n",
    "    :param kwargs: keyword arguments list\n",
    "    \"\"\"\n",
    "    print('a = ', a)\n",
    "    print('b = ', b)\n",
    "    print('y = ', y)\n",
    "    print('z = ', z)\n",
    "    print('args = ', args)\n",
    "    print('kwargs = ', kwargs)"
   ]
  },
  {
   "cell_type": "code",
   "execution_count": null,
   "metadata": {
    "collapsed": true
   },
   "outputs": [],
   "source": [
    "foo2?"
   ]
  },
  {
   "cell_type": "code",
   "execution_count": null,
   "metadata": {
    "collapsed": false
   },
   "outputs": [],
   "source": [
    "foo2(1, 2, x='table', z=['g', 'h'], k1='fff', k2='iii')"
   ]
  },
  {
   "cell_type": "markdown",
   "metadata": {},
   "source": [
    "More explanation of the usage of args and kwargs can be found [here](http://stackoverflow.com/questions/3394835/args-and-kwargs)"
   ]
  },
  {
   "cell_type": "markdown",
   "metadata": {},
   "source": [
    "### Importing existing modules"
   ]
  },
  {
   "cell_type": "markdown",
   "metadata": {},
   "source": [
    "A module is a series of usefull functions or classes put together, by you or other. It is very simple to import modules into Python, in order to use the functions it provides. They are several ways to import a module. Each module provide their own namespace, i.e. a way to recognize them. It is always a good idea to keep all module functions into their own namespace to avoid conflict and allow good tracability.\n",
    "\n",
    "For example, the default python ```math``` module provide mathematical functions. We will see later that other module provide similar functions. It is then a good idea to keep the namespace distinct to know who's who."
   ]
  },
  {
   "cell_type": "code",
   "execution_count": null,
   "metadata": {
    "collapsed": false
   },
   "outputs": [],
   "source": [
    "import math                     # Import all the math module in its own namespace\n",
    "print(math.sqrt(2))"
   ]
  },
  {
   "cell_type": "code",
   "execution_count": null,
   "metadata": {
    "collapsed": false
   },
   "outputs": [],
   "source": [
    "import math as m                # Import all the math module and name it as m\n",
    "print(m.sqrt(2))"
   ]
  },
  {
   "cell_type": "code",
   "execution_count": null,
   "metadata": {
    "collapsed": false
   },
   "outputs": [],
   "source": [
    "from math import sqrt as mysqrt # Import only the math.sqrt function as mysqrt\n",
    "print(mysqrt(2))"
   ]
  },
  {
   "cell_type": "code",
   "execution_count": null,
   "metadata": {
    "collapsed": false
   },
   "outputs": [],
   "source": [
    "# This should be avoided unless you know exactly what you are doing\n",
    "from math import *    # Import all the math functions into the current namespace (could have name conflict)\n",
    "print(sqrt(2))"
   ]
  },
  {
   "cell_type": "markdown",
   "metadata": {},
   "source": [
    "### simple IO"
   ]
  },
  {
   "cell_type": "markdown",
   "metadata": {},
   "source": [
    "open a file and write some stuff to it"
   ]
  },
  {
   "cell_type": "code",
   "execution_count": null,
   "metadata": {
    "collapsed": true
   },
   "outputs": [],
   "source": [
    "fobj = open('myfoo.txt', 'w')\n",
    "for word in 'i hope it is not raining outside'.split():\n",
    "    fobj.write('{}\\n'.format(word))\n",
    "fobj.close()"
   ]
  },
  {
   "cell_type": "code",
   "execution_count": null,
   "metadata": {
    "collapsed": false
   },
   "outputs": [],
   "source": [
    "!cat myfoo.txt"
   ]
  },
  {
   "cell_type": "markdown",
   "metadata": {},
   "source": [
    "open the file back (in read mode) and print its content"
   ]
  },
  {
   "cell_type": "code",
   "execution_count": null,
   "metadata": {
    "collapsed": false
   },
   "outputs": [],
   "source": [
    "with open('myfoo.txt') as fobj_read:\n",
    "    for line in fobj_read:\n",
    "        print(line)"
   ]
  },
  {
   "cell_type": "markdown",
   "metadata": {},
   "source": [
    "the **with** statment safely opens and closes the file when pickling is finished. It is called a context manager (for more info click [here](https://www.python.org/dev/peps/pep-0343/))"
   ]
  },
  {
   "cell_type": "markdown",
   "metadata": {},
   "source": [
    "### Help on functions / modules"
   ]
  },
  {
   "cell_type": "code",
   "execution_count": null,
   "metadata": {
    "collapsed": false
   },
   "outputs": [],
   "source": [
    "import math\n",
    "print(math.__doc__) # will print the docstring of the module"
   ]
  },
  {
   "cell_type": "code",
   "execution_count": null,
   "metadata": {
    "collapsed": false
   },
   "outputs": [],
   "source": [
    "help(math)         # will produce a nice output of the help\n",
    "?math             # will do the same in IPython "
   ]
  },
  {
   "cell_type": "code",
   "execution_count": null,
   "metadata": {
    "collapsed": false
   },
   "outputs": [],
   "source": [
    "help(math.sqrt) # will print the help of the math.sqrt function"
   ]
  },
  {
   "cell_type": "markdown",
   "metadata": {},
   "source": [
    "### Writing your own modules / scripts"
   ]
  },
  {
   "cell_type": "markdown",
   "metadata": {},
   "source": [
    "Each file defines a module namespace. Thus a disk.py file defines the disk module. You can see a module as a container for functions and/or variables."
   ]
  },
  {
   "cell_type": "code",
   "execution_count": null,
   "metadata": {
    "collapsed": false
   },
   "outputs": [],
   "source": [
    "%%file disk.py\n",
    "# When need to use a double value for pi, found in the math module\n",
    "from math import pi\n",
    "\n",
    "def area(radius=1.):              # By default the radius is 1.\n",
    "    return pi*radius**2\n",
    "\n",
    "def length(radius):\n",
    "    return 2*pi*radius"
   ]
  },
  {
   "cell_type": "code",
   "execution_count": null,
   "metadata": {
    "collapsed": false
   },
   "outputs": [],
   "source": [
    "import disk"
   ]
  },
  {
   "cell_type": "code",
   "execution_count": null,
   "metadata": {
    "collapsed": false
   },
   "outputs": [],
   "source": [
    "print(disk.area()) # By default we said the radius would be 1\n",
    "print(disk.area(2)) # This call the area function from the loaded disk module"
   ]
  },
  {
   "cell_type": "code",
   "execution_count": null,
   "metadata": {
    "collapsed": false
   },
   "outputs": [],
   "source": [
    "from disk import area as disk_area\n",
    "print(disk_area(2)) # This call the disk_area function imported from the disk module"
   ]
  },
  {
   "cell_type": "markdown",
   "metadata": {},
   "source": [
    "A script is a serie of more or less complex python commands that you can easily run"
   ]
  },
  {
   "cell_type": "code",
   "execution_count": null,
   "metadata": {
    "collapsed": false
   },
   "outputs": [],
   "source": [
    "%%file disk_script.py\n",
    "\n",
    "import disk as mydisk\n",
    "from disk import area as disk_area\n",
    "\n",
    "print(mydisk.area(2))\n",
    "print(disk_area(3))"
   ]
  },
  {
   "cell_type": "code",
   "execution_count": null,
   "metadata": {
    "collapsed": false
   },
   "outputs": [],
   "source": [
    "%run disk_script.py        # runs the script in IPython"
   ]
  },
  {
   "cell_type": "code",
   "execution_count": null,
   "metadata": {
    "collapsed": false
   },
   "outputs": [],
   "source": [
    "import disk                # This import a module\n",
    "import disk_script         # Will import a script as a module and thus \n",
    "                           # run its content (on the first import only), \n",
    "                           # but this does not actually really make sense..."
   ]
  },
  {
   "cell_type": "code",
   "execution_count": null,
   "metadata": {
    "collapsed": false
   },
   "outputs": [],
   "source": [
    "print(disk_script.mydisk.area(2)) # and leads to syntax like that"
   ]
  },
  {
   "cell_type": "code",
   "execution_count": null,
   "metadata": {
    "collapsed": false
   },
   "outputs": [],
   "source": [
    "import importlib\n",
    "importlib.reload(disk) # is needed if you want to re-import a modified version of an already imported module "
   ]
  },
  {
   "cell_type": "markdown",
   "metadata": {},
   "source": [
    "### Classes"
   ]
  },
  {
   "cell_type": "markdown",
   "metadata": {},
   "source": [
    "The simplest class"
   ]
  },
  {
   "cell_type": "code",
   "execution_count": null,
   "metadata": {
    "collapsed": false
   },
   "outputs": [],
   "source": [
    "# define the class\n",
    "class myclass():\n",
    "    pass\n",
    "\n",
    "# create an instance\n",
    "foo_instance = myclass()\n",
    "print(type(foo_instance))"
   ]
  },
  {
   "cell_type": "markdown",
   "metadata": {},
   "source": [
    "A more useful class that defines some attributes"
   ]
  },
  {
   "cell_type": "code",
   "execution_count": null,
   "metadata": {
    "collapsed": false
   },
   "outputs": [],
   "source": [
    "class myclass():\n",
    "    x = 1  # this is a class attribute\n",
    "    y = 2  # this is another class attribute\n",
    "print(myclass.x)\n",
    "print(myclass.y)"
   ]
  },
  {
   "cell_type": "markdown",
   "metadata": {},
   "source": [
    "An even more useful class that defines methods"
   ]
  },
  {
   "cell_type": "code",
   "execution_count": null,
   "metadata": {
    "collapsed": false
   },
   "outputs": [],
   "source": [
    "class myclass():\n",
    "    \n",
    "    x = 1            # class attribute\n",
    "    y = 2            # another class attribute\n",
    "\n",
    "    def func1():\n",
    "        print('The value of x is:', myclass.x)\n",
    "\n",
    "    def func2(self):\n",
    "        print('The value of x is:', self.x)\n",
    "\n",
    "myclass.func1()             # call the method\n",
    "foo_instance = myclass()    # create an instance\n",
    "myclass.x += 1              # increment the class attribute x\n",
    "foo_instance.func2()        # print the incremented attribute value\n"
   ]
  },
  {
   "cell_type": "markdown",
   "metadata": {},
   "source": [
    "The class attrubute value is shared between the instance and the class itself."
   ]
  },
  {
   "cell_type": "markdown",
   "metadata": {},
   "source": [
    "So far we have been using classes as namespaces that provide access to their own attributes and methods. Next we will define classes with controlled initialization\n",
    "where eacy instance has its own attributes."
   ]
  },
  {
   "cell_type": "code",
   "execution_count": null,
   "metadata": {
    "collapsed": false
   },
   "outputs": [],
   "source": [
    "class myclass(object):  # inherit object\n",
    "\n",
    "    def __init__(self):\n",
    "        self.x = 1      # attribute created upon creating an instance\n",
    "        self.y = 2      # another attribute created upon creating an instance\n",
    "        print('created a new instance of myclass', self)\n",
    "\n",
    "    def func1(self):\n",
    "        print('The value of x is:', self.x)\n",
    "    \n",
    "    def increment_x(self):\n",
    "        self.x += 1"
   ]
  },
  {
   "cell_type": "code",
   "execution_count": null,
   "metadata": {
    "collapsed": false
   },
   "outputs": [],
   "source": [
    "my_instance = myclass()  # create an instance"
   ]
  },
  {
   "cell_type": "code",
   "execution_count": null,
   "metadata": {
    "collapsed": false
   },
   "outputs": [],
   "source": [
    "# do a method call on the instance\n",
    "my_instance.func1()"
   ]
  },
  {
   "cell_type": "code",
   "execution_count": null,
   "metadata": {
    "collapsed": false
   },
   "outputs": [],
   "source": [
    "my_instance.increment_x()\n",
    "my_instance.func1()"
   ]
  },
  {
   "cell_type": "code",
   "execution_count": null,
   "metadata": {
    "collapsed": false
   },
   "outputs": [],
   "source": [
    "print('The attributes and method of the class are', dir(myclass))"
   ]
  }
 ],
 "metadata": {
  "kernelspec": {
   "display_name": "Python 3",
   "language": "python",
   "name": "python3"
  },
  "language_info": {
   "codemirror_mode": {
    "name": "ipython",
    "version": 3
   },
   "file_extension": ".py",
   "mimetype": "text/x-python",
   "name": "python",
   "nbconvert_exporter": "python",
   "pygments_lexer": "ipython3",
   "version": "3.5.1"
  }
 },
 "nbformat": 4,
 "nbformat_minor": 0
}
