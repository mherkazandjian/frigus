{
 "cells": [
  {
   "cell_type": "markdown",
   "metadata": {},
   "source": [
    "# Analytic solution of a two- and three-levels system"
   ]
  },
  {
   "cell_type": "markdown",
   "metadata": {},
   "source": [
    "## Two level system"
   ]
  },
  {
   "cell_type": "markdown",
   "metadata": {},
   "source": [
    "The analtic analytic ratios of the the level poputlations at equilbrium is presented and compared to the\n",
    "numerical solution obtained by [Frigus](https://github.com/mherkazandjian/frigus)."
   ]
  },
  {
   "cell_type": "markdown",
   "metadata": {},
   "source": [
    "### Analytic solution\n",
    "\n",
    "\n",
    "$$\n",
    "\\mathbf{A} = \n",
    "\\begin{bmatrix}\n",
    "    0      & 0 \\\\\n",
    "    A_{10} & 0 \\\\\n",
    "\\end{bmatrix}\n",
    "$$\n",
    "\n",
    "$$\n",
    "\\mathbf{B J_\\nu} = \n",
    "\\begin{bmatrix}\n",
    "    0      & \\frac{g_1}{g_0} A_{10} \\\\\n",
    "    A_{10} & 0 \\\\\n",
    "\\end{bmatrix}\n",
    "=\n",
    "\\begin{bmatrix}\n",
    "    0      & B_{01} \\\\\n",
    "    B_{10} & 0 \\\\\n",
    "\\end{bmatrix}\n",
    "$$\n",
    "\n",
    "$$\n",
    "\\mathbf{K} = \n",
    "\\begin{bmatrix}\n",
    "    0      & \\frac{g_1}{g_0} K_{10} e^{-\\frac{|E_{10}|}{k_b T_{\\rm kin}}}\\\\\n",
    "    K_{10} & 0 \\\\\n",
    "\\end{bmatrix}\n",
    "=\n",
    "\\begin{bmatrix}\n",
    "    0      & K_{01} \\\\\n",
    "    K_{10} & 0 \\\\\n",
    "\\end{bmatrix}\n",
    "$$\n",
    "\n",
    "$$\n",
    "\\mathbf{n} = \n",
    "\\begin{bmatrix}\n",
    "    n_0 \\\\\n",
    "    n_1 \\\\\n",
    "\\end{bmatrix}\n",
    "$$\n"
   ]
  },
  {
   "cell_type": "markdown",
   "metadata": {},
   "source": [
    "$$\n",
    "\\frac{d\\mathbf{n}}{dt} = \\mathbf{M} \\cdot \\mathbf{n} = \\left[\\left( \\mathbf{A + B J_\\nu + K}n_c \\right)^T - (\\mathbf{e}^T \\cdot \\mathbf{O}) \\circ \\mathbf{I}\\right] \\cdot \\mathbf{n} \\\\\n",
    "=\n",
    "\\begin{bmatrix}\n",
    "    -(B_{01} + K_{01} n_c)\n",
    "    & A_{10} + B_{10} + K_{10} n_c \\\\\n",
    "    B_{01} + K_{01} n_c\n",
    "    & -(A_{10} + B_{10} + K_{10} n_c)  \\\\\n",
    "\\end{bmatrix}\n",
    "\\cdot\n",
    "\\begin{bmatrix}\n",
    "    n_0\\\\\n",
    "    n_1\\\\\n",
    "\\end{bmatrix}\n",
    "$$\n"
   ]
  },
  {
   "cell_type": "markdown",
   "metadata": {},
   "source": [
    "The rate equations are"
   ]
  },
  {
   "cell_type": "markdown",
   "metadata": {},
   "source": [
    "\\begin{eqnarray}\n",
    "\\frac{dn_0}{dt} &=& -(B_{01} + K_{01}n_c) n_0 + (A_{10} + B_{10} + K_{10} n_c)n_1 \\\\\n",
    "\\frac{dn_1}{dt} &=& (B_{01} + K_{01}n_c) n_0 - (A_{10} + B_{10} + K_{10} n_c) n_1\n",
    "\\end{eqnarray}\n"
   ]
  },
  {
   "cell_type": "markdown",
   "metadata": {},
   "source": [
    "At equilibrium, the ratio $n_1/n_0$ is:"
   ]
  },
  {
   "cell_type": "markdown",
   "metadata": {},
   "source": [
    "$$                                                                                                                    \\frac{n_1}{n_0} = \\frac{B_{01} + K_{01}n_c}{A_{10} + B_{10} + K_{10}n_c} = \\frac{M_{10}}{M_{01}}                 $$"
   ]
  },
  {
   "cell_type": "markdown",
   "metadata": {},
   "source": [
    "### Comparison to the numerical solution obtained with Frigus "
   ]
  },
  {
   "cell_type": "code",
   "execution_count": 6,
   "metadata": {},
   "outputs": [],
   "source": [
    "# ..todo:: add the numerical solution here"
   ]
  },
  {
   "cell_type": "markdown",
   "metadata": {},
   "source": [
    "### Three-level system"
   ]
  },
  {
   "cell_type": "markdown",
   "metadata": {},
   "source": [
    "For a 3-levels system, the matrix formulation for the rate equations can be expressed as"
   ]
  },
  {
   "cell_type": "markdown",
   "metadata": {},
   "source": [
    "$$\n",
    "\\mathbf{A} =\n",
    "\\begin{bmatrix}\n",
    "    0      & 0      &  0  \\\\\n",
    "    A_{10} & 0      &  0  \\\\\n",
    "    A_{20} & A_{21} &  0  \\\\\n",
    "\\end{bmatrix}\n",
    "$$                          "
   ]
  },
  {
   "cell_type": "markdown",
   "metadata": {},
   "source": [
    "$$\n",
    "\\mathbf{B J_\\nu} =\n",
    "\\begin{bmatrix}\n",
    "    0      & \\frac{g_1}{g_0} f_{10} A_{10} & \\frac{g_2}{g_0} f_{20} A_{20} \\\\\n",
    "    f_{10} A_{10} & 0                      & \\frac{g_2}{g_1} f_{21} A_{21} \\\\\n",
    "    f_{20} A_{20} & f_{21} A_{21}                 &   0                     \\\\\n",
    "\\end{bmatrix} =\n",
    "\\begin{bmatrix}\n",
    "    0        & B_{01} &  B_{02} \\\\\n",
    "    B_{10}   & 0      &  B_{12} \\\\\n",
    "    B_{20}   & B_{21} &  0 \\\\\n",
    "\\end{bmatrix}\n",
    "$$                                                                            "
   ]
  },
  {
   "cell_type": "markdown",
   "metadata": {},
   "source": [
    "$$\n",
    "\\mathbf{K}=\n",
    "\\begin{bmatrix}\n",
    "    0     & \\frac{g_1}{g_0}K_{10}e^{-\\frac{|E_{10}|}{k_b T_{kin}}} &  \\frac{g_2}{g_0}K_{20}e^{-\\frac{|E_{20}|}{k_b T_{kin}}} \\\\\n",
    "    K_{10}& 0                                                      &  \\frac{g_2}{g_1}K_{21}e^{-\\frac{|E_{21}|}{k_b T_{kin}}} \\\\\n",
    "    K_{20}& K_{20}                                                 &  0                                                      \\\\\n",
    "\\end{bmatrix} =\n",
    "\\begin{bmatrix}\n",
    "    0      & K_{01} & K_{02}\\\\\n",
    "    K_{10} & 0      & K_{12}\\\\\n",
    "    K_{20} & K_{21} & 0     \\\\\n",
    "\\end{bmatrix};\n",
    "\\mathbf{n}=\n",
    "\\begin{bmatrix}\n",
    "    n_0\\\\\n",
    "    n_1\\\\\n",
    "    n_2\\\\\n",
    "\\end{bmatrix}\n",
    "$$\n"
   ]
  },
  {
   "cell_type": "markdown",
   "metadata": {},
   "source": [
    "The rate equations are:\n",
    "\\begin{equation}\n",
    "\\begin{split}\n",
    "\\frac{dn_0}{dt} =& -(B_{01} + K_{01}n_c) n_0 -(B_{02} + K_{02}n_c) n_0 \\\\\n",
    "                 & +(A_{10} + B_{10} + K_{10} n_c)n_1 + (A_{20} + B_{20} + K_{20} n_c)n_2\\\\\n",
    "                =& -R_{01} n_0 - R_{02} n_0 \\\\\n",
    "                 & + R_{10}n_1 + R_{20} n_2\\\\\n",
    "\\frac{dn_1}{dt} =& -(B_{12} + K_{12}n_c) n_1 - (A_{10} + B_{10} + K_{10} n_c)n_1  \\\\\n",
    "                 & +(B_{01} + K_{01}n_c) n_0  + (A_{21} + B_{21} + K_{21} n_c)n_2\\\\\n",
    "                =& -R_{12} n_1 - R_{10} n_1 \\\\\n",
    "                 & + R_{01}n_0 + R_{21} n_2\\\\\n",
    "\\frac{dn_2}{dt} =& -(A_{21} + B_{21} + K_{21} n_c)n_2 -(A_{20} + B_{20} + K_{20} n_c)n_2\\\\\n",
    "                 & +(B_{02} + K_{02}n_c) n_0  + (B_{12} + K_{12}n_c) n_1\\\\\n",
    "                =& -R_{21} n_1 - R_{20} n_2 \\\\\n",
    "                 & + R_{02}n_0 + R_{12} n_1\\\\\n",
    "\\end{split}\n",
    "\\end{equation}\n"
   ]
  },
  {
   "cell_type": "markdown",
   "metadata": {},
   "source": [
    "where the terms in parenthesis have been grouped as $R_{ij}$ to facilitate the arithmetic\n",
    "procedure of recovering the ratios of the level population at the equilibrium (as adopted\n",
    "by [Draine 2010](https://press.princeton.edu/titles/9499.html)). Indeed, in such conditions, it can be easily found that\n",
    "$n_2/n_1$ and $n_0/n_1$ are:\n",
    "$$                                                                                                      \n",
    "\\frac{n_2}{n_1} = \\frac{R_{10}R_{02}+R_{12}R_{01}+R_{12}R_{02}}{R_{21}R_{01}+R_{21}R_{02}+R_{01}R_{20}} \n",
    "$$\n",
    "$$                                                                                                      \n",
    "\\frac{n_0}{n_1} = \\frac{R_{10}R_{20}+R_{10}R_{21}+R_{12}R_{20}}{R_{01}R_{20}+R_{01}R_{21}+R_{21}R_{02}} \n",
    "$$\n"
   ]
  },
  {
   "cell_type": "markdown",
   "metadata": {},
   "source": [
    "### Comparison to the numerical solution obtained with Frigus "
   ]
  },
  {
   "cell_type": "code",
   "execution_count": 7,
   "metadata": {},
   "outputs": [],
   "source": [
    "# ..todo:: add the numerical solution here"
   ]
  }
 ],
 "metadata": {
  "kernelspec": {
   "display_name": "Python 3",
   "language": "python",
   "name": "python3"
  },
  "language_info": {
   "codemirror_mode": {
    "name": "ipython",
    "version": 3
   },
   "file_extension": ".py",
   "mimetype": "text/x-python",
   "name": "python",
   "nbconvert_exporter": "python",
   "pygments_lexer": "ipython3",
   "version": "3.6.3"
  }
 },
 "nbformat": 4,
 "nbformat_minor": 2
}
