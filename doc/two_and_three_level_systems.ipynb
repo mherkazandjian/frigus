{
 "cells": [
  {
   "cell_type": "markdown",
   "metadata": {},
   "source": [
    "# Analytic solution of a two- and three-levels system"
   ]
  },
  {
   "cell_type": "code",
   "execution_count": 1,
   "metadata": {},
   "outputs": [],
   "source": [
    "%matplotlib inline\n",
    "\n",
    "import numpy\n",
    "from astropy import units as u\n",
    "import matplotlib.pyplot as plt\n",
    "from frigus.readers.dataset import DataLoader\n",
    "from frigus.population import population_density_at_steady_state"
   ]
  },
  {
   "cell_type": "markdown",
   "metadata": {},
   "source": [
    "## Two level system"
   ]
  },
  {
   "cell_type": "markdown",
   "metadata": {},
   "source": [
    "The analtic analytic ratios of the the level poputlations at equilbrium is presented and compared to the\n",
    "numerical solution obtained by [Frigus](https://github.com/mherkazandjian/frigus)."
   ]
  },
  {
   "cell_type": "markdown",
   "metadata": {},
   "source": [
    "### Analytic solution\n",
    "\n",
    "\n",
    "$$\n",
    "\\mathbf{A} = \n",
    "\\begin{bmatrix}\n",
    "    0      & 0 \\\\\n",
    "    A_{10} & 0 \\\\\n",
    "\\end{bmatrix}\n",
    "$$\n",
    "\n",
    "$$\n",
    "\\mathbf{B J_\\nu} = \n",
    "\\begin{bmatrix}\n",
    "    0      & \\frac{g_1}{g_0} A_{10} \\\\\n",
    "    A_{10} & 0 \\\\\n",
    "\\end{bmatrix}\n",
    "=\n",
    "\\begin{bmatrix}\n",
    "    0      & B_{01} \\\\\n",
    "    B_{10} & 0 \\\\\n",
    "\\end{bmatrix}\n",
    "$$\n",
    "\n",
    "$$\n",
    "\\mathbf{K} = \n",
    "\\begin{bmatrix}\n",
    "    0      & \\frac{g_1}{g_0} K_{10} e^{-\\frac{|E_{10}|}{k_b T_{\\rm kin}}}\\\\\n",
    "    K_{10} & 0 \\\\\n",
    "\\end{bmatrix}\n",
    "=\n",
    "\\begin{bmatrix}\n",
    "    0      & K_{01} \\\\\n",
    "    K_{10} & 0 \\\\\n",
    "\\end{bmatrix}\n",
    "$$\n",
    "\n",
    "$$\n",
    "\\mathbf{n} = \n",
    "\\begin{bmatrix}\n",
    "    n_0 \\\\\n",
    "    n_1 \\\\\n",
    "\\end{bmatrix}\n",
    "$$\n"
   ]
  },
  {
   "cell_type": "markdown",
   "metadata": {},
   "source": [
    "$$\n",
    "\\frac{d\\mathbf{n}}{dt} = \\mathbf{M} \\cdot \\mathbf{n} = \\left[\\left( \\mathbf{A + B J_\\nu + K}n_c \\right)^T - (\\mathbf{e}^T \\cdot \\mathbf{O}) \\circ \\mathbf{I}\\right] \\cdot \\mathbf{n} \\\\\n",
    "=\n",
    "\\begin{bmatrix}\n",
    "    -(B_{01} + K_{01} n_c)\n",
    "    & A_{10} + B_{10} + K_{10} n_c \\\\\n",
    "    B_{01} + K_{01} n_c\n",
    "    & -(A_{10} + B_{10} + K_{10} n_c)  \\\\\n",
    "\\end{bmatrix}\n",
    "\\cdot\n",
    "\\begin{bmatrix}\n",
    "    n_0\\\\\n",
    "    n_1\\\\\n",
    "\\end{bmatrix}\n",
    "$$\n"
   ]
  },
  {
   "cell_type": "markdown",
   "metadata": {},
   "source": [
    "The rate equations are"
   ]
  },
  {
   "cell_type": "markdown",
   "metadata": {},
   "source": [
    "\\begin{eqnarray}\n",
    "\\frac{dn_0}{dt} &=& -(B_{01} + K_{01}n_c) n_0 + (A_{10} + B_{10} + K_{10} n_c)n_1 \\\\\n",
    "\\frac{dn_1}{dt} &=& (B_{01} + K_{01}n_c) n_0 - (A_{10} + B_{10} + K_{10} n_c) n_1\n",
    "\\end{eqnarray}\n"
   ]
  },
  {
   "cell_type": "markdown",
   "metadata": {},
   "source": [
    "At equilibrium, the ratio $n_1/n_0$ is:"
   ]
  },
  {
   "cell_type": "markdown",
   "metadata": {},
   "source": [
    "$$                                                                                                                    \\frac{n_1}{n_0} = \\frac{B_{01} + K_{01}n_c}{A_{10} + B_{10} + K_{10}n_c} = \\frac{M_{10}}{M_{01}}                 $$"
   ]
  },
  {
   "cell_type": "markdown",
   "metadata": {},
   "source": [
    "### Comparison to the numerical solution obtained with Frigus "
   ]
  },
  {
   "cell_type": "markdown",
   "metadata": {},
   "source": [
    "load the data for a two-level system (pre-included in Frigus)"
   ]
  },
  {
   "cell_type": "code",
   "execution_count": 2,
   "metadata": {},
   "outputs": [],
   "source": [
    "from frigus.population import population_density_ratio_analytic_two_level_system\n",
    "species_data = DataLoader().load('two_level_1')"
   ]
  },
  {
   "cell_type": "markdown",
   "metadata": {},
   "source": [
    "show the energy level(s)"
   ]
  },
  {
   "cell_type": "code",
   "execution_count": 3,
   "metadata": {},
   "outputs": [
    {
     "name": "stdout",
     "output_type": "stream",
     "text": [
      " j   g  label  E \n",
      "               eV\n",
      "--- --- ----- ---\n",
      "0.0 1.0   0.0 0.2\n",
      "1.0 2.0   1.0 0.7\n"
     ]
    }
   ],
   "source": [
    "print(species_data.energy_levels.data)"
   ]
  },
  {
   "cell_type": "markdown",
   "metadata": {},
   "source": [
    "Show the content of the K matrix (at 100K e.g.)"
   ]
  },
  {
   "cell_type": "code",
   "execution_count": 4,
   "metadata": {},
   "outputs": [
    {
     "name": "stdout",
     "output_type": "stream",
     "text": [
      "[[0.  0. ]\n",
      " [1.3 0. ]] m3 / s\n"
     ]
    }
   ],
   "source": [
    "print(species_data.K_dex_matrix_interpolator(100.0))"
   ]
  },
  {
   "cell_type": "markdown",
   "metadata": {},
   "source": [
    "show the content of the A matrix"
   ]
  },
  {
   "cell_type": "code",
   "execution_count": 5,
   "metadata": {},
   "outputs": [
    {
     "name": "stdout",
     "output_type": "stream",
     "text": [
      "[[0.  0. ]\n",
      " [2.1 0. ]] 1 / s\n"
     ]
    }
   ],
   "source": [
    "print(species_data.A_matrix)"
   ]
  },
  {
   "cell_type": "markdown",
   "metadata": {},
   "source": [
    "set the values of the temperatures at which the comparison \n",
    "between the analytic and numerical will be done"
   ]
  },
  {
   "cell_type": "code",
   "execution_count": 6,
   "metadata": {},
   "outputs": [],
   "source": [
    "T_kin_range = numpy.logspace(1.0, 6.0, 50) * u.Kelvin"
   ]
  },
  {
   "cell_type": "markdown",
   "metadata": {},
   "source": [
    "define the model parameters"
   ]
  },
  {
   "cell_type": "code",
   "execution_count": 7,
   "metadata": {},
   "outputs": [],
   "source": [
    "# density of the collider species\n",
    "n_c = 1e6 * u.meter ** -3\n",
    "\n",
    "# radiation temperature\n",
    "T_rad = 100.0 * u.Kelvin"
   ]
  },
  {
   "cell_type": "markdown",
   "metadata": {},
   "source": [
    "compute the population densities ratios (analytic solution)"
   ]
  },
  {
   "cell_type": "code",
   "execution_count": 8,
   "metadata": {},
   "outputs": [],
   "source": [
    "ratio_analytic_vs_T_kin = []\n",
    "for T_kin in T_kin_range:\n",
    "    pop_dens = population_density_ratio_analytic_two_level_system(\n",
    "        species_data.energy_levels.data['g'],\n",
    "        species_data.energy_levels.data['E'],\n",
    "        species_data.K_dex_matrix_interpolator(T_kin)[1, 0],\n",
    "        species_data.A_matrix[1, 0],\n",
    "        n_c,\n",
    "        T_kin,\n",
    "        T_rad\n",
    "    )\n",
    "    ratio_analytic_vs_T_kin.append(pop_dens)\n",
    "\n",
    "ratio_analytic_vs_T_kin = numpy.array(ratio_analytic_vs_T_kin).flatten()"
   ]
  },
  {
   "cell_type": "markdown",
   "metadata": {},
   "source": [
    "compute the population densities ratios (numerical solution with Frigus)"
   ]
  },
  {
   "cell_type": "code",
   "execution_count": 9,
   "metadata": {
    "collapsed": true
   },
   "outputs": [
    {
     "name": "stderr",
     "output_type": "stream",
     "text": [
      "/home/mher/progs/sw/miniconda/envs/frigus/lib/python3.6/site-packages/astropy/units/quantity.py:639: RuntimeWarning: invalid value encountered in true_divide\n",
      "  result = super().__array_ufunc__(function, method, *arrays, **kwargs)\n",
      "WARNING: Input contains invalid wavelength/frequency value(s) [astropy.modeling.blackbody]\n"
     ]
    }
   ],
   "source": [
    "ratio_numeric_vs_T_kin = []\n",
    "for T_kin in T_kin_range:\n",
    "    pop_dens_eq = population_density_at_steady_state(\n",
    "        species_data,\n",
    "        T_kin,\n",
    "        T_rad,\n",
    "        n_c)\n",
    "    pop_dens_eq_ratio = pop_dens_eq[1] / pop_dens_eq[0]\n",
    "    ratio_numeric_vs_T_kin.append(pop_dens_eq_ratio)\n",
    "\n",
    "ratio_numeric_vs_T_kin = numpy.array(ratio_numeric_vs_T_kin).flatten()"
   ]
  },
  {
   "cell_type": "markdown",
   "metadata": {},
   "source": [
    "plot the population density computed numerically and analytically and also\n",
    "plot the relative difference between them"
   ]
  },
  {
   "cell_type": "code",
   "execution_count": 10,
   "metadata": {},
   "outputs": [
    {
     "data": {
      "image/png": "[encoded data removed]",
      "text/plain": [
       "<matplotlib.figure.Figure at 0x7f8021d78780>"
      ]
     },
     "metadata": {},
     "output_type": "display_data"
    }
   ],
   "source": [
    "fig, (ax0, ax1) = plt.subplots(figsize=(12, 4), nrows=1, ncols=2)\n",
    "ax0.loglog(T_kin_range, ratio_numeric_vs_T_kin, 'r+', label=r'$x_1$ / $x_0$')\n",
    "ax0.loglog(T_kin_range, ratio_analytic_vs_T_kin, 'k--')\n",
    "ax0.set_ylabel(r'population density ratio')\n",
    "ax0.set_xlabel('T_kin')\n",
    "ax0.legend()\n",
    "\n",
    "relative_error = numpy.abs(\n",
    "    1.0 - numpy.array(ratio_numeric_vs_T_kin) / numpy.array(\n",
    "        ratio_analytic_vs_T_kin)\n",
    ")\n",
    "ax1.loglog(T_kin_range, relative_error)\n",
    "ax1.set_xlabel('T_kin')\n",
    "ax1.set_title('relative error')\n",
    "\n",
    "plt.show()"
   ]
  },
  {
   "cell_type": "markdown",
   "metadata": {},
   "source": [
    "### Three-level system"
   ]
  },
  {
   "cell_type": "markdown",
   "metadata": {},
   "source": [
    "For a 3-levels system, the matrix formulation for the rate equations can be expressed as"
   ]
  },
  {
   "cell_type": "markdown",
   "metadata": {},
   "source": [
    "$$\n",
    "\\mathbf{A} =\n",
    "\\begin{bmatrix}\n",
    "    0      & 0      &  0  \\\\\n",
    "    A_{10} & 0      &  0  \\\\\n",
    "    A_{20} & A_{21} &  0  \\\\\n",
    "\\end{bmatrix}\n",
    "$$                          "
   ]
  },
  {
   "cell_type": "markdown",
   "metadata": {},
   "source": [
    "$$\n",
    "\\mathbf{B J_\\nu} =\n",
    "\\begin{bmatrix}\n",
    "    0      & \\frac{g_1}{g_0} f_{10} A_{10} & \\frac{g_2}{g_0} f_{20} A_{20} \\\\\n",
    "    f_{10} A_{10} & 0                      & \\frac{g_2}{g_1} f_{21} A_{21} \\\\\n",
    "    f_{20} A_{20} & f_{21} A_{21}                 &   0                     \\\\\n",
    "\\end{bmatrix} =\n",
    "\\begin{bmatrix}\n",
    "    0        & B_{01} &  B_{02} \\\\\n",
    "    B_{10}   & 0      &  B_{12} \\\\\n",
    "    B_{20}   & B_{21} &  0 \\\\\n",
    "\\end{bmatrix}\n",
    "$$                                                                            "
   ]
  },
  {
   "cell_type": "markdown",
   "metadata": {},
   "source": [
    "$$\n",
    "\\mathbf{K}=\n",
    "\\begin{bmatrix}\n",
    "    0     & \\frac{g_1}{g_0}K_{10}e^{-\\frac{|E_{10}|}{k_b T_{kin}}} &  \\frac{g_2}{g_0}K_{20}e^{-\\frac{|E_{20}|}{k_b T_{kin}}} \\\\\n",
    "    K_{10}& 0                                                      &  \\frac{g_2}{g_1}K_{21}e^{-\\frac{|E_{21}|}{k_b T_{kin}}} \\\\\n",
    "    K_{20}& K_{20}                                                 &  0                                                      \\\\\n",
    "\\end{bmatrix} =\n",
    "\\begin{bmatrix}\n",
    "    0      & K_{01} & K_{02}\\\\\n",
    "    K_{10} & 0      & K_{12}\\\\\n",
    "    K_{20} & K_{21} & 0     \\\\\n",
    "\\end{bmatrix};\n",
    "\\mathbf{n}=\n",
    "\\begin{bmatrix}\n",
    "    n_0\\\\\n",
    "    n_1\\\\\n",
    "    n_2\\\\\n",
    "\\end{bmatrix}\n",
    "$$\n"
   ]
  },
  {
   "cell_type": "markdown",
   "metadata": {},
   "source": [
    "The rate equations are:\n",
    "\\begin{equation}\n",
    "\\begin{split}\n",
    "\\frac{dn_0}{dt} =& -(B_{01} + K_{01}n_c) n_0 -(B_{02} + K_{02}n_c) n_0 \\\\\n",
    "                 & +(A_{10} + B_{10} + K_{10} n_c)n_1 + (A_{20} + B_{20} + K_{20} n_c)n_2\\\\\n",
    "                =& -R_{01} n_0 - R_{02} n_0 \\\\\n",
    "                 & + R_{10}n_1 + R_{20} n_2\\\\\n",
    "\\frac{dn_1}{dt} =& -(B_{12} + K_{12}n_c) n_1 - (A_{10} + B_{10} + K_{10} n_c)n_1  \\\\\n",
    "                 & +(B_{01} + K_{01}n_c) n_0  + (A_{21} + B_{21} + K_{21} n_c)n_2\\\\\n",
    "                =& -R_{12} n_1 - R_{10} n_1 \\\\\n",
    "                 & + R_{01}n_0 + R_{21} n_2\\\\\n",
    "\\frac{dn_2}{dt} =& -(A_{21} + B_{21} + K_{21} n_c)n_2 -(A_{20} + B_{20} + K_{20} n_c)n_2\\\\\n",
    "                 & +(B_{02} + K_{02}n_c) n_0  + (B_{12} + K_{12}n_c) n_1\\\\\n",
    "                =& -R_{21} n_1 - R_{20} n_2 \\\\\n",
    "                 & + R_{02}n_0 + R_{12} n_1\\\\\n",
    "\\end{split}\n",
    "\\end{equation}\n"
   ]
  },
  {
   "cell_type": "markdown",
   "metadata": {},
   "source": [
    "where the terms in parenthesis have been grouped as $R_{ij}$ to facilitate the arithmetic\n",
    "procedure of recovering the ratios of the level population at the equilibrium (as adopted\n",
    "by [Draine 2010](https://press.princeton.edu/titles/9499.html)). Indeed, in such conditions, it can be easily found that\n",
    "$n_2/n_1$ and $n_0/n_1$ are:\n",
    "$$                                                                                                      \n",
    "\\frac{n_2}{n_1} = \\frac{R_{10}R_{02}+R_{12}R_{01}+R_{12}R_{02}}{R_{21}R_{01}+R_{21}R_{02}+R_{01}R_{20}} \n",
    "$$\n",
    "$$                                                                                                      \n",
    "\\frac{n_0}{n_1} = \\frac{R_{10}R_{20}+R_{10}R_{21}+R_{12}R_{20}}{R_{01}R_{20}+R_{01}R_{21}+R_{21}R_{02}} \n",
    "$$\n"
   ]
  },
  {
   "cell_type": "markdown",
   "metadata": {},
   "source": [
    "### Comparison to the numerical solution obtained with Frigus "
   ]
  },
  {
   "cell_type": "code",
   "execution_count": 11,
   "metadata": {},
   "outputs": [],
   "source": [
    "from frigus.population import population_density_ratio_analytic_three_level_system\n",
    "species_data = DataLoader().load('three_level_1')"
   ]
  },
  {
   "cell_type": "code",
   "execution_count": 12,
   "metadata": {},
   "outputs": [],
   "source": [
    "T_kin_range = numpy.logspace(1.0, 6.0, 50) * u.Kelvin\n",
    "n_c = 1e6 * u.meter ** -3\n",
    "T_rad = 100.0 * u.Kelvin"
   ]
  },
  {
   "cell_type": "code",
   "execution_count": 13,
   "metadata": {},
   "outputs": [
    {
     "name": "stdout",
     "output_type": "stream",
     "text": [
      " j   g  label  E \n",
      "               eV\n",
      "--- --- ----- ---\n",
      "0.0 1.0   0.0 0.2\n",
      "1.0 2.0   1.0 0.7\n",
      "2.0 5.0   2.0 1.3\n"
     ]
    }
   ],
   "source": [
    "print(species_data.energy_levels.data)"
   ]
  },
  {
   "cell_type": "code",
   "execution_count": 14,
   "metadata": {},
   "outputs": [
    {
     "name": "stdout",
     "output_type": "stream",
     "text": [
      "[[0.  0.  0. ]\n",
      " [2.1 0.  0. ]\n",
      " [3.2 1.4 0. ]] 1 / s\n"
     ]
    }
   ],
   "source": [
    "print(species_data.A_matrix)"
   ]
  },
  {
   "cell_type": "code",
   "execution_count": 15,
   "metadata": {},
   "outputs": [
    {
     "name": "stdout",
     "output_type": "stream",
     "text": [
      "[[0.  0.  0. ]\n",
      " [1.3 0.  0. ]\n",
      " [0.6 0.9 0. ]] m3 / s\n"
     ]
    }
   ],
   "source": [
    "print(species_data.K_dex_matrix_interpolator(100.0))"
   ]
  },
  {
   "cell_type": "code",
   "execution_count": 16,
   "metadata": {},
   "outputs": [],
   "source": [
    "ratio_analytic_vs_T_kin = []\n",
    "for T_kin in T_kin_range:\n",
    "    pop_dens_eq_ratio_analytic = population_density_ratio_analytic_three_level_system(\n",
    "        species_data.energy_levels.data['g'],\n",
    "        species_data.energy_levels.data['E'],\n",
    "        species_data.K_dex_matrix_interpolator(T_kin)[1, 0],\n",
    "        species_data.K_dex_matrix_interpolator(T_kin)[2, 0],\n",
    "        species_data.K_dex_matrix_interpolator(T_kin)[2, 1],\n",
    "        species_data.A_matrix[1, 0],\n",
    "        species_data.A_matrix[2, 0],\n",
    "        species_data.A_matrix[2, 1],\n",
    "        n_c,\n",
    "        T_kin,\n",
    "        T_rad\n",
    "    )\n",
    "\n",
    "    ratio_analytic_vs_T_kin.append(numpy.array(pop_dens_eq_ratio_analytic))\n",
    "\n",
    "ratio_analytic_vs_T_kin = numpy.array(ratio_analytic_vs_T_kin)"
   ]
  },
  {
   "cell_type": "code",
   "execution_count": 17,
   "metadata": {
    "collapsed": true
   },
   "outputs": [
    {
     "name": "stderr",
     "output_type": "stream",
     "text": [
      "/home/mher/progs/sw/miniconda/envs/frigus/lib/python3.6/site-packages/astropy/units/quantity.py:639: RuntimeWarning: invalid value encountered in true_divide\n",
      "  result = super().__array_ufunc__(function, method, *arrays, **kwargs)\n",
      "WARNING: Input contains invalid wavelength/frequency value(s) [astropy.modeling.blackbody]\n"
     ]
    }
   ],
   "source": [
    "ratio_numeric_vs_T_kin = []\n",
    "\n",
    "for T_kin in T_kin_range:\n",
    "\n",
    "    pop_dens_eq_numeric = population_density_at_steady_state(\n",
    "        species_data,\n",
    "        T_kin,\n",
    "        T_rad,\n",
    "        n_c)\n",
    "\n",
    "    pop_dens_eq_ratio_numeric = numpy.array(\n",
    "        [\n",
    "            pop_dens_eq_numeric[1] / pop_dens_eq_numeric[0],\n",
    "            pop_dens_eq_numeric[2] / pop_dens_eq_numeric[0]\n",
    "        ]\n",
    "    ).flatten()\n",
    "    ratio_numeric_vs_T_kin.append(pop_dens_eq_ratio_numeric)\n",
    "\n",
    "ratio_numeric_vs_T_kin = numpy.array(ratio_numeric_vs_T_kin)"
   ]
  },
  {
   "cell_type": "code",
   "execution_count": 18,
   "metadata": {},
   "outputs": [
    {
     "data": {
      "text/plain": [
       "<matplotlib.legend.Legend at 0x7f8021978c50>"
      ]
     },
     "execution_count": 18,
     "metadata": {},
     "output_type": "execute_result"
    },
    {
     "data": {
      "image/png": "[encoded data removed]",
      "text/plain": [
       "<matplotlib.figure.Figure at 0x7f8021abdc18>"
      ]
     },
     "metadata": {},
     "output_type": "display_data"
    }
   ],
   "source": [
    "fig, (ax0, ax1) = plt.subplots(figsize=(12, 4), nrows=1, ncols=2)\n",
    "ax0.loglog(T_kin_range, ratio_numeric_vs_T_kin[:, 0], 'r+', label=r'$x_1$ / $x_0$')\n",
    "ax0.loglog(T_kin_range, ratio_analytic_vs_T_kin[:, 0], 'k--')\n",
    "\n",
    "ax0.loglog(T_kin_range, ratio_numeric_vs_T_kin[:, 1], 'b+', label=r'$x_2$/$x_0$')\n",
    "ax0.loglog(T_kin_range, ratio_analytic_vs_T_kin[:, 1], 'g--')\n",
    "ax0.set_xlabel('T_kin')\n",
    "ax0.set_ylabel(r'population density ratio')\n",
    "ax0.legend()\n",
    "\n",
    "\n",
    "relative_error = []\n",
    "relative_error.append(\n",
    "    numpy.abs(\n",
    "        1.0 - numpy.array(ratio_numeric_vs_T_kin[:, 0]) / numpy.array(ratio_analytic_vs_T_kin[:, 0])\n",
    "    )\n",
    ")\n",
    "relative_error.append(\n",
    "    numpy.abs(\n",
    "        1.0 - numpy.array(ratio_numeric_vs_T_kin[:, 1]) / numpy.array(ratio_analytic_vs_T_kin[:, 1])\n",
    "    )\n",
    ")\n",
    "relative_error = numpy.array(relative_error)\n",
    "\n",
    "\n",
    "ax1.loglog(T_kin_range, relative_error[0, :], 'b--', label='x_1/x_0')\n",
    "ax1.loglog(T_kin_range, relative_error[1, :], 'g--', label='x_2/x_0')\n",
    "ax1.set_xlabel('T_kin')\n",
    "ax1.set_title('relative error')\n",
    "ax1.legend()"
   ]
  }
 ],
 "metadata": {
  "kernelspec": {
   "display_name": "Python 3",
   "language": "python",
   "name": "python3"
  },
  "language_info": {
   "codemirror_mode": {
    "name": "ipython",
    "version": 3
   },
   "file_extension": ".py",
   "mimetype": "text/x-python",
   "name": "python",
   "nbconvert_exporter": "python",
   "pygments_lexer": "ipython3",
   "version": "3.6.3"
  }
 },
 "nbformat": 4,
 "nbformat_minor": 2
}
